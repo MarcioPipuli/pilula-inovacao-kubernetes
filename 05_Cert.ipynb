{
 "cells": [
  {
   "cell_type": "markdown",
   "metadata": {},
   "source": [
    "# Projeto cert-app"
   ]
  },
  {
   "cell_type": "markdown",
   "metadata": {},
   "source": [
    "## Preparando o acesso ao Ambiente"
   ]
  },
  {
   "cell_type": "code",
   "execution_count": null,
   "metadata": {},
   "outputs": [],
   "source": [
    "export KUBECONFIG=~/kubeconfig\n",
    "export myNamespace=adsantos\n",
    "mkdir -p ~/work/inovacao\n",
    "cd ~/work/inovacao\n",
    "echo $PWD"
   ]
  },
  {
   "cell_type": "markdown",
   "metadata": {},
   "source": [
    "1. Publicando o Projeto cert-app"
   ]
  },
  {
   "cell_type": "code",
   "execution_count": null,
   "metadata": {},
   "outputs": [],
   "source": [
    "helm upgrade --install --namespace $myNamespace --create-namespace cert-app cert-app/helm/cert-app"
   ]
  },
  {
   "cell_type": "markdown",
   "metadata": {},
   "source": [
    "2. Consultando os recursos do namespace"
   ]
  },
  {
   "cell_type": "code",
   "execution_count": null,
   "metadata": {},
   "outputs": [],
   "source": [
    "kubectl get all -n $myNamespace "
   ]
  },
  {
   "cell_type": "markdown",
   "metadata": {},
   "source": [
    "3. Validando o Serviço\n",
    "\n",
    "    Expor o serviço temporariamente para validação"
   ]
  },
  {
   "cell_type": "code",
   "execution_count": null,
   "metadata": {},
   "outputs": [],
   "source": [
    "kubectl port-forward svc/cert-app 8080:5000 -n $myNamespace "
   ]
  },
  {
   "cell_type": "markdown",
   "metadata": {},
   "source": [
    "### O tráfego de requisições.\n",
    "\n",
    "A aplicação cert-app foi criada originalmente para ser utilizado apenas pela aplicação `front-app`, mas foi necessário expó-la para outras aplicações fora do cluster. Uma vez que ela é coesa e desacoplada da aplicação `front-app`, a solução foi simplesmente criar um novo endereço.\n",
    "\n",
    "Como você resolveria isso? Sabendo que a cert-app já tem um serviço do tipo ClusterIP que é acessado pela front-app no endereço http://cert-app:5000/get-cert?p=MyName."
   ]
  },
  {
   "cell_type": "code",
   "execution_count": null,
   "metadata": {},
   "outputs": [],
   "source": [
    "kubectl get svc/cert-app -n $myNamespace"
   ]
  },
  {
   "cell_type": "markdown",
   "metadata": {},
   "source": [
    "Qual o comando para descrever a solução dada?"
   ]
  },
  {
   "cell_type": "code",
   "execution_count": null,
   "metadata": {},
   "outputs": [],
   "source": [
    "# digite o comando aqui e ctrl+enter ou command+enter\n",
    "kubectl describe ingress/cert-app -n $myNamespace"
   ]
  },
  {
   "cell_type": "markdown",
   "metadata": {},
   "source": [
    "Vamos dar uma olhada na solução, abra o arquivo [values.yaml](work/inovacao/cert-app/helm/cert-app/values.yaml) e procure pelas variáveis do Ingress.\n",
    "\n",
    "Essas são as URLs da aplicação:"
   ]
  },
  {
   "cell_type": "code",
   "execution_count": null,
   "metadata": {},
   "outputs": [],
   "source": [
    "echo http://kdop.net/$myNamespace/cert-app\n",
    "echo https://kdop.net/$myNamespace/cert-app\n",
    "echo http://krthomolog.com.br/$myNamespace/cert-app\n",
    "echo https://krthomolog.com.br/$myNamespace/cert-app"
   ]
  },
  {
   "cell_type": "markdown",
   "metadata": {},
   "source": [
    "## Excluindo as aplicações"
   ]
  },
  {
   "cell_type": "code",
   "execution_count": null,
   "metadata": {},
   "outputs": [],
   "source": [
    "helm delete front-app --namespace $myNamespace\n",
    "helm delete back-app --namespace $myNamespace\n",
    "helm delete cert-app --namespace $myNamespace\n",
    "kubectl delete ns $myNamespace"
   ]
  },
  {
   "cell_type": "markdown",
   "metadata": {},
   "source": [
    "[<img align=\"left\" src=\"media/voltar.png\" width=\"100\"/>](04_Back.ipynb)\n"
   ]
  }
 ],
 "metadata": {
  "kernelspec": {
   "display_name": "Bash",
   "language": "bash",
   "name": "bash"
  },
  "language_info": {
   "codemirror_mode": "shell",
   "file_extension": ".sh",
   "mimetype": "text/x-sh",
   "name": "bash"
  }
 },
 "nbformat": 4,
 "nbformat_minor": 4
}
