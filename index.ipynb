{
 "cells": [
  {
   "cell_type": "markdown",
   "metadata": {},
   "source": [
    "# AKS tutorial"
   ]
  },
  {
   "cell_type": "markdown",
   "metadata": {},
   "source": [
    "## Testando o docker e acessando um servidor exteno"
   ]
  },
  {
   "cell_type": "code",
   "execution_count": 2,
   "metadata": {},
   "outputs": [
    {
     "name": "stdout",
     "output_type": "stream",
     "text": [
      "Client:\n",
      " Version:           19.03.8\n",
      " API version:       1.40\n",
      " Go version:        go1.13.8\n",
      " Git commit:        afacb8b7f0\n",
      " Built:             Tue Jun 23 22:26:12 2020\n",
      " OS/Arch:           linux/amd64\n",
      " Experimental:      false\n",
      "\n",
      "Server: Docker Engine - Community\n",
      " Engine:\n",
      "  Version:          19.03.13-beta2\n",
      "  API version:      1.40 (minimum version 1.12)\n",
      "  Go version:       go1.13.14\n",
      "  Git commit:       ff3fbc9d55\n",
      "  Built:            Mon Aug  3 15:06:50 2020\n",
      "  OS/Arch:          linux/amd64\n",
      "  Experimental:     true\n",
      " containerd:\n",
      "  Version:          v1.2.13\n",
      "  GitCommit:        7ad184331fa3e55e52b890ea95e65ba581ae3429\n",
      " runc:\n",
      "  Version:          1.0.0-rc10\n",
      "  GitCommit:        dc9208a3303feef5b3839f4323d9beb36df0a9dd\n",
      " docker-init:\n",
      "  Version:          0.18.0\n",
      "  GitCommit:        fec3683\n"
     ]
    }
   ],
   "source": [
    "docker -H tcp://192.168.68.100:2375 version"
   ]
  },
  {
   "cell_type": "markdown",
   "metadata": {},
   "source": [
    "## Entrando na Azure"
   ]
  },
  {
   "cell_type": "markdown",
   "metadata": {},
   "source": [
    "Você precisa do comando az cli instalado e acesso a uma subscrição Azure. Para instalar o az cli acesse <https://docs.microsoft.com/en-us/cli/azure/install-azure-cli?view=azure-cli-latest>."
   ]
  },
  {
   "cell_type": "code",
   "execution_count": 1,
   "metadata": {
    "tags": []
   },
   "outputs": [
    {
     "name": "stdout",
     "output_type": "stream",
     "text": [
      "{\n",
      "  \"azure-cli\": \"2.11.1\",\n",
      "  \"azure-cli-core\": \"2.11.1\",\n",
      "  \"azure-cli-telemetry\": \"1.0.5\",\n",
      "  \"extensions\": {}\n",
      "}\n",
      "\u001b[0m"
     ]
    }
   ],
   "source": [
    "az version"
   ]
  },
  {
   "cell_type": "markdown",
   "metadata": {},
   "source": [
    "Listará todas as subscrições que você tem acesso."
   ]
  },
  {
   "cell_type": "code",
   "execution_count": null,
   "metadata": {
    "scrolled": true,
    "tags": []
   },
   "outputs": [],
   "source": [
    "az login --query \"[].{SubscriptionId:id, Name:name}\" -o table"
   ]
  },
  {
   "cell_type": "markdown",
   "metadata": {},
   "source": [
    "## Definindo a subscrição"
   ]
  },
  {
   "cell_type": "code",
   "execution_count": null,
   "metadata": {
    "tags": []
   },
   "outputs": [],
   "source": [
    "az account set --subscription <id>\n",
    "az account show"
   ]
  },
  {
   "cell_type": "markdown",
   "metadata": {},
   "source": [
    "## Obtendo as credenciais do cluster\n",
    "\n",
    "O arquivo de configuração do cluster pode ser obtido com o comando `get-credentials` ou ser fornecida por um administrador."
   ]
  },
  {
   "cell_type": "code",
   "execution_count": null,
   "metadata": {
    "tags": []
   },
   "outputs": [],
   "source": [
    "az aks get-credentials -n <cluster> -g <resource-group> -f kubeconfig"
   ]
  },
  {
   "cell_type": "markdown",
   "metadata": {},
   "source": [
    "## Definindo qual arquivo de configuração o kubectl irá usar"
   ]
  },
  {
   "cell_type": "code",
   "execution_count": null,
   "metadata": {},
   "outputs": [],
   "source": [
    "export KUBECONFIG=$PWD/kubeconfig"
   ]
  },
  {
   "cell_type": "markdown",
   "metadata": {},
   "source": [
    "Agora você já tem acesso ao cluster, para isso você precisará do `kubectl`, utilitário que envia comandos para as APIs do kubernetes."
   ]
  },
  {
   "cell_type": "markdown",
   "metadata": {},
   "source": [
    "### Testando o kubectl"
   ]
  },
  {
   "cell_type": "code",
   "execution_count": 2,
   "metadata": {
    "tags": []
   },
   "outputs": [
    {
     "name": "stdout",
     "output_type": "stream",
     "text": [
      "Client Version: version.Info{Major:\"1\", Minor:\"19\", GitVersion:\"v1.19.1\", GitCommit:\"206bcadf021e76c27513500ca24182692aabd17e\", GitTreeState:\"clean\", BuildDate:\"2020-09-09T11:26:42Z\", GoVersion:\"go1.15\", Compiler:\"gc\", Platform:\"linux/amd64\"}\n",
      "The connection to the server localhost:8080 was refused - did you specify the right host or port?\n"
     ]
    },
    {
     "ename": "",
     "evalue": "1",
     "output_type": "error",
     "traceback": []
    }
   ],
   "source": [
    "kubectl version"
   ]
  },
  {
   "cell_type": "markdown",
   "metadata": {},
   "source": [
    "Com o `kubectl` vamos testar alguns commandos para o cluster."
   ]
  },
  {
   "cell_type": "markdown",
   "metadata": {},
   "source": [
    "### Listando os nós do cluster"
   ]
  },
  {
   "cell_type": "code",
   "execution_count": null,
   "metadata": {
    "tags": []
   },
   "outputs": [],
   "source": [
    "kubectl get nodes"
   ]
  },
  {
   "cell_type": "markdown",
   "metadata": {},
   "source": [
    "Você também pode passar o arquivo de configuração como parametro `--kubeconfig kubecconfig`"
   ]
  },
  {
   "cell_type": "markdown",
   "metadata": {},
   "source": [
    "## Helm"
   ]
  },
  {
   "cell_type": "code",
   "execution_count": 3,
   "metadata": {
    "tags": []
   },
   "outputs": [
    {
     "name": "stdout",
     "output_type": "stream",
     "text": [
      "version.BuildInfo{Version:\"v3.3.1\", GitCommit:\"249e5215cde0c3fa72e27eb7a30e8d55c9696144\", GitTreeState:\"clean\", GoVersion:\"go1.14.7\"}\n"
     ]
    }
   ],
   "source": [
    "helm version"
   ]
  },
  {
   "cell_type": "code",
   "execution_count": null,
   "metadata": {
    "tags": []
   },
   "outputs": [],
   "source": [
    "helm list --all-namespaces"
   ]
  },
  {
   "cell_type": "markdown",
   "metadata": {},
   "source": [
    "## Faça uma cópia do seu trabalho"
   ]
  },
  {
   "cell_type": "markdown",
   "metadata": {},
   "source": [
    "Selecione `File | Download as | Notebook` (clássico)  ou `File | Download` (lab) para salvar uma cópia local do seu notebook."
   ]
  },
  {
   "cell_type": "code",
   "execution_count": null,
   "metadata": {},
   "outputs": [],
   "source": []
  }
 ],
 "metadata": {
  "kernelspec": {
   "display_name": "Bash",
   "language": "bash",
   "name": "bash"
  },
  "language_info": {
   "codemirror_mode": "shell",
   "file_extension": ".sh",
   "mimetype": "text/x-sh",
   "name": "bash"
  }
 },
 "nbformat": 4,
 "nbformat_minor": 4
}
