{
 "cells": [
  {
   "cell_type": "markdown",
   "metadata": {},
   "source": [
    "# [Helm](https://helm.sh/docs/)\n",
    "\n",
    "Helm é o gerenciador de pacotes do Kubernetes.\n",
    "\n",
    "Já vimos como criar cada recurso separadamente. O Helm realiza a gestão dos recursos (ns, deploy, svc, ...) desta forma, com apenas um comando, podemos implantar, alterar e excluir todo nosso projeto."
   ]
  },
  {
   "cell_type": "code",
   "execution_count": null,
   "metadata": {},
   "outputs": [],
   "source": [
    "helm version"
   ]
  },
  {
   "cell_type": "markdown",
   "metadata": {},
   "source": [
    "Para criar o helm, executamos o comando abaixo:  \n",
    "\n",
    "```\n",
    "helm create \\<nome-aplicacao>\n",
    "```\n",
    "\n",
    "Este comando irá criar a estrutura abaixo:\n",
    "```\n",
    "<nome-aplicacao>/\n",
    "├── Chart.yaml      # Informações Técnicas\n",
    "├── values.yaml     # Variáveis e Valores\n",
    "└── templates/      # Modelos de Deployments, Services e todos outros recursos\n",
    "```\n",
    "\n",
    "[Helm do Projeto front-app](https://github.com/kdop-dev/front-app/tree/master/helm/front-app)"
   ]
  },
  {
   "cell_type": "markdown",
   "metadata": {},
   "source": [
    "## Preparando o acesso ao Ambiente"
   ]
  },
  {
   "cell_type": "code",
   "execution_count": null,
   "metadata": {},
   "outputs": [],
   "source": [
    "export KUBECONFIG=$PWD/kubeconfig\n",
    "cd /tmp/inovacao/proj\n",
    "echo $PWD"
   ]
  },
  {
   "cell_type": "markdown",
   "metadata": {},
   "source": [
    "## Projeto front-app\n",
    "\n",
    "1. Publicando o Projeto front-app\n",
    "\n",
    "    Para a publicar a aplicação via helm, podemos utilizar duas formas:\n",
    "    * **helm install** - Comando para publicação da aplicação.\n",
    "    * **helm upgrade** - Comando para atualização da aplicação. Passando o parâmetro **--install** ele publica a aplicação, caso não exista."
   ]
  },
  {
   "cell_type": "code",
   "execution_count": null,
   "metadata": {
    "tags": []
   },
   "outputs": [],
   "source": [
    "#Informe um nome para o namespace\n",
    "myNamespace=\"\"\n",
    "#helm install --namespace $myNamespace --create-namespace front-app front-app/helm/front-app\n",
    "helm upgrade --install --namespace $myNamespace --create-namespace front-app front-app/helm/front-app"
   ]
  },
  {
   "cell_type": "markdown",
   "metadata": {},
   "source": [
    "2. Listando os helms do namespace"
   ]
  },
  {
   "cell_type": "code",
   "execution_count": null,
   "metadata": {},
   "outputs": [],
   "source": [
    "helm list --namespace $myNamespace "
   ]
  },
  {
   "cell_type": "markdown",
   "metadata": {},
   "source": [
    "3. Consultando os recursos do namespace"
   ]
  },
  {
   "cell_type": "code",
   "execution_count": null,
   "metadata": {},
   "outputs": [],
   "source": [
    "kubectl get all -n $myNamespace "
   ]
  },
  {
   "cell_type": "markdown",
   "metadata": {},
   "source": [
    "4. Verificando o problema no POD"
   ]
  },
  {
   "cell_type": "code",
   "execution_count": null,
   "metadata": {},
   "outputs": [],
   "source": [
    "kubectl describe pod <insert-pod-name-here> -n $myNamespace "
   ]
  },
  {
   "cell_type": "markdown",
   "metadata": {},
   "source": [
    "* O POD necessita da aplicação back-app para poder ser executada.\n",
    "  * **livenessProbe**: Verifica a saúde do container. Somente se o container estiver em saudável, o POD entrará em execução.  \n",
    "  Código maior ou igual a 200 e menor que 400 (200 <= StatusCode < 400) indica sucesso. Qualquer outro código indica falha.\n",
    "```\n",
    "        livenessProbe:\n",
    "            httpGet:\n",
    "              path: /health\n",
    "              port: http\n",
    "            initialDelaySeconds: 3 # Tempo para realizar a primeira validação\n",
    "            periodSeconds: 10      # Tempo em que será realizada a sondagem da atividade.\n",
    "```\n",
    "  </br>\n",
    "  * **readinessProbe**: Indica se o contêiner está pronto para atender às solicitações. Se a análise de prontidão falhar, o controlador de terminais removerá o endereço IP do Pod dos terminais de todos os Serviços que correspondem ao Pod. O estado padrão de prontidão antes do atraso inicial é Failure. Se um contêiner não fornecer uma sonda de prontidão, the default state is Success.\n"
   ]
  },
  {
   "cell_type": "markdown",
   "metadata": {},
   "source": [
    "## Projeto back-app\n",
    "\n",
    "1. Publicando o Projeto back-app"
   ]
  },
  {
   "cell_type": "code",
   "execution_count": null,
   "metadata": {},
   "outputs": [],
   "source": [
    "helm upgrade --install --namespace $myNamespace --create-namespace back-app back-app/helm/back-app"
   ]
  },
  {
   "cell_type": "markdown",
   "metadata": {},
   "source": [
    "2. Consultando os recursos do namespace"
   ]
  },
  {
   "cell_type": "code",
   "execution_count": null,
   "metadata": {},
   "outputs": [],
   "source": [
    "kubectl get all -n $myNamespace "
   ]
  },
  {
   "cell_type": "markdown",
   "metadata": {},
   "source": [
    "3. Validando o Serviço\n",
    "\n",
    "    Para acessar o back-app fora do Cluster, necessitamos expor temporariamente o serviço"
   ]
  },
  {
   "cell_type": "code",
   "execution_count": null,
   "metadata": {},
   "outputs": [],
   "source": [
    "kubectl port-forward svc/back-app 8080:5000 -n $myNamespace "
   ]
  },
  {
   "cell_type": "markdown",
   "metadata": {},
   "source": [
    "Consulte o serviço acessando o link abaixo:\n",
    "\n",
    "http://localhost:8080/health\n",
    "\n",
    "Agora que os PODs estão em execução, podemos também validar a aplicação front-app.\n",
    "Verifique no serviço do front-app o IP externo liberado para o loadbalance.\n",
    "\n",
    "[http://\\<ip-loadbalance>:8080/health](http://ip-loadbalance:8080/health)\n",
    "\n",
    "[http://\\<ip-loadbalance>:8080/index](http://ip-loadbalance:8080/index)\n",
    "    \n"
   ]
  },
  {
   "cell_type": "markdown",
   "metadata": {},
   "source": [
    "## Projeto cert-app\n",
    "\n",
    "1. Publicando o Projeto cert-app"
   ]
  },
  {
   "cell_type": "code",
   "execution_count": null,
   "metadata": {},
   "outputs": [],
   "source": [
    "helm upgrade --install --namespace $myNamespace --create-namespace cert-app cert-app/helm/cert-app"
   ]
  },
  {
   "cell_type": "markdown",
   "metadata": {},
   "source": [
    "2. Consultando os recursos do namespace"
   ]
  },
  {
   "cell_type": "code",
   "execution_count": null,
   "metadata": {},
   "outputs": [],
   "source": [
    "kubectl get all -n $myNamespace "
   ]
  },
  {
   "cell_type": "markdown",
   "metadata": {},
   "source": [
    "3. Validando o Serviço\n",
    "\n",
    "    Expor o serviço temporariamente para validação"
   ]
  },
  {
   "cell_type": "code",
   "execution_count": null,
   "metadata": {},
   "outputs": [],
   "source": [
    "kubectl port-forward svc/cert-app 8080:5000 -n $myNamespace "
   ]
  },
  {
   "cell_type": "markdown",
   "metadata": {},
   "source": [
    "Consulte o serviço acessando o link abaixo:\n",
    "\n",
    "http://localhost:8080/health\n",
    "\n",
    "## Excluindo as aplicações"
   ]
  },
  {
   "cell_type": "code",
   "execution_count": null,
   "metadata": {},
   "outputs": [],
   "source": [
    "helm delete front-app --namespace $myNamespace  \n",
    "helm delete back-app --namespace $myNamespace \n",
    "helm delete cert-app --namespace $myNamespace \n",
    "kubectl delete ns $myNamespace "
   ]
  },
  {
   "cell_type": "markdown",
   "metadata": {},
   "source": [
    "[<img align=\"left\" src=\"media/voltar.png\" width=\"100\"/>](02_Kubernetes.ipynb)\n"
   ]
  },
  {
   "cell_type": "markdown",
   "metadata": {},
   "source": [
    "ToDo:\n",
    "* Preparar livenessProbe e readnessProbe\n",
    "* Preparar ConfigMap e Secret\n",
    "* Preparar resource request e limits\n",
    "* Preparar HPA\n",
    "* comando para o helm listar o que executou"
   ]
  }
 ],
 "metadata": {
  "kernelspec": {
   "display_name": "Bash",
   "language": "bash",
   "name": "bash"
  },
  "language_info": {
   "codemirror_mode": "shell",
   "file_extension": ".sh",
   "mimetype": "text/x-sh",
   "name": "bash"
  }
 },
 "nbformat": 4,
 "nbformat_minor": 4
}
