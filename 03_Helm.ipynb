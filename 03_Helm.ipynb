{
 "cells": [
  {
   "cell_type": "markdown",
   "metadata": {},
   "source": [
    "# [Helm](https://helm.sh/docs/)\n",
    "\n",
    "Helm é o gerenciador de pacotes do Kubernetes.\n",
    "\n",
    "Já vimos como criar cada recurso separadamente. O Helm realiza a gestão dos recursos (ns, deploy, svc, ...) desta forma, com apenas um comando, podemos implantar, alterar e excluir todo nosso projeto."
   ]
  },
  {
   "cell_type": "code",
   "execution_count": null,
   "metadata": {},
   "outputs": [],
   "source": [
    "helm version"
   ]
  },
  {
   "cell_type": "markdown",
   "metadata": {},
   "source": [
    "Para criar o helm, executamos o comando abaixo:  \n",
    "\n",
    "```\n",
    "helm create \\<nome-aplicacao>\n",
    "```\n",
    "\n",
    "Este comando irá criar a estrutura abaixo:\n",
    "```\n",
    "<nome-aplicacao>/\n",
    "├── Chart.yaml      # Informações Técnicas\n",
    "├── values.yaml     # Variáveis e Valores\n",
    "└── templates/      # Modelos de Deployments, Services e todos outros recursos\n",
    "```\n",
    "\n",
    "[Helm do Projeto front-app](https://github.com/kdop-dev/front-app/tree/master/helm/front-app)"
   ]
  },
  {
   "cell_type": "markdown",
   "metadata": {},
   "source": [
    "## Preparando o acesso ao Ambiente"
   ]
  },
  {
   "cell_type": "code",
   "execution_count": 5,
   "metadata": {},
   "outputs": [
    {
     "name": "stdout",
     "output_type": "stream",
     "text": [
      "/home/jovyan/work/inovacao\n"
     ]
    }
   ],
   "source": [
    "export KUBECONFIG=$PWD/bkp/kubeconfig\n",
    "mkdir -p work/inovacao\n",
    "cd $PWD/work/inovacao\n",
    "echo $PWD"
   ]
  },
  {
   "cell_type": "markdown",
   "metadata": {},
   "source": [
    "## Projeto front-app\n",
    "\n",
    "1. Publicando o Projeto front-app\n",
    "\n",
    "    Para a publicar a aplicação via helm, podemos utilizar duas formas:\n",
    "    * **helm install** - Comando para publicação da aplicação.\n",
    "    * **helm upgrade** - Comando para atualização da aplicação. Passando o parâmetro **--install** ele publica a aplicação, caso não exista."
   ]
  },
  {
   "cell_type": "code",
   "execution_count": 6,
   "metadata": {
    "tags": []
   },
   "outputs": [],
   "source": [
    "#Informe um nome para o namespace\n",
    "myNamespace=\"adsantos\"\n",
    "#helm install --namespace $myNamespace --create-namespace front-app front-app/helm/front-app\n",
    "helm upgrade --install --namespace $myNamespace --create-namespace front-app front-app/helm/front-app"
   ]
  },
  {
   "cell_type": "markdown",
   "metadata": {},
   "source": [
    "2. Listando os helms do namespace"
   ]
  },
  {
   "cell_type": "code",
   "execution_count": null,
   "metadata": {},
   "outputs": [],
   "source": [
    "helm list --namespace $myNamespace "
   ]
  },
  {
   "cell_type": "markdown",
   "metadata": {},
   "source": [
    "3. Consultando os recursos do namespace"
   ]
  },
  {
   "cell_type": "code",
   "execution_count": null,
   "metadata": {},
   "outputs": [],
   "source": [
    "kubectl get all -n $myNamespace "
   ]
  },
  {
   "cell_type": "markdown",
   "metadata": {},
   "source": [
    "4. Verificando o problema no POD"
   ]
  },
  {
   "cell_type": "code",
   "execution_count": null,
   "metadata": {},
   "outputs": [],
   "source": [
    "kubectl describe pod <insert-pod-name-here> -n $myNamespace "
   ]
  },
  {
   "cell_type": "markdown",
   "metadata": {},
   "source": [
    "* O POD necessita da aplicação back-app para poder ser executada.\n",
    "  * **livenessProbe**: Verifica a saúde do container. Somente se o container estiver em saudável, o POD entrará em execução.  \n",
    "  Código maior ou igual a 200 e menor que 400 (200 <= StatusCode < 400) indica sucesso. Qualquer outro código indica falha.\n",
    "```\n",
    "        livenessProbe:\n",
    "            httpGet:\n",
    "              path: /health\n",
    "              port: http\n",
    "            initialDelaySeconds: 3 # Tempo para realizar a primeira validação\n",
    "            periodSeconds: 10      # Tempo em que será realizada a sondagem da atividade.\n",
    "```\n",
    "  </br>\n",
    "  * **readinessProbe**: Indica se o contêiner está pronto para atender às solicitações. Se a análise de prontidão falhar, o controlador de terminais removerá o endereço IP do Pod dos terminais de todos os Serviços que correspondem ao Pod. O estado padrão de prontidão antes do atraso inicial é Failure. Se um contêiner não fornecer uma sonda de prontidão, the default state is Success.\n"
   ]
  },
  {
   "attachments": {},
   "cell_type": "markdown",
   "metadata": {},
   "source": [
    "### Como as requisições chegam aos containers?\n",
    "\n",
    "Existem algumas alternativas para expor nossa aplicação utilizando [serviços](https://kubernetes.io/docs/concepts/services-networking/service/), tais como ClusterIP, LoadBalancer, NodePort, ExternalName. O Ingress não é um serviço é uma configuração para uma aplicação (ingress controller) direcionar o tráfego para o nosso serviço.\n",
    "\n",
    "![](media/nginx-ingress.png)\n",
    "\n",
    "Fonte para os ícones: <https://github.com/kubernetes/community/tree/master/icons>\n",
    "\n",
    "No namespace ingress-nginx está instalado o Ingress Controller, ele é um [Servidor Web Nginx](https://github.com/nginxinc/kubernetes-ingress) modificado e integrado com o kubernetes. Existem outros Ingress Controller, para uma lista mais extensiva acesse [Kubernetes Ingress Controller Overview](https://medium.com/swlh/kubernetes-ingress-controller-overview-81abbaca19ec).\n",
    "\n",
    "#### Serviços\n",
    "\n",
    "Como configuramos o nosso serviço? Isso depende de como queremos que ele seja acessado, novamente existem várias opções, as mais comuns são:\n",
    "\n",
    "* Domínio: front-app.com\n",
    "* Subdominio: front-app.kdop.net\n",
    "* Caminho: kdop.net/front-app\n",
    "\n",
    "Para esta aplicação configuramos a terceira opção. Vamos abrir o arquivo [values.yaml](work/inovacao/front-app/helm/front-app.values.yaml) para entender como foio configurado.\n",
    "\n",
    "```yaml\n",
    "service:\n",
    "  type: ClusterIP\n",
    "  port: 5000\n",
    "\n",
    "ingress:\n",
    "  enabled: true\n",
    "  annotations:\n",
    "    nginx.ingress.kubernetes.io/rewrite-target: /$2\n",
    "  hosts:\n",
    "    - host: learn.kdop.net\n",
    "      paths:\n",
    "      - /adsantos/front-app(/|$)(.*)\n",
    "  tls: []\n",
    "```\n",
    "\n",
    "Esses parâmetros, quando aplicados pelo helm aos templates de serviço e ingress irão criar a seguinte configuração:\n",
    "\n",
    "```yaml\n",
    "---\n",
    "# Source: front-app/templates/service.yaml\n",
    "apiVersion: v1\n",
    "kind: Service\n",
    "metadata:\n",
    "  name: front-app\n",
    "  labels:\n",
    "    helm.sh/chart: front-app-0.1.0\n",
    "    app.kubernetes.io/name: front-app\n",
    "    app.kubernetes.io/instance: front-app\n",
    "    app.kubernetes.io/version: \"1.16.0\"\n",
    "    app.kubernetes.io/managed-by: Helm\n",
    "spec:\n",
    "  type: ClusterIP\n",
    "  ports:\n",
    "    - port: 5000\n",
    "      targetPort: http\n",
    "      protocol: TCP\n",
    "      name: http\n",
    "  selector:\n",
    "    app.kubernetes.io/name: front-app\n",
    "    app.kubernetes.io/instance: front-app\n",
    "---\n",
    "# Source: front-app/templates/ingress.yaml\n",
    "apiVersion: networking.k8s.io/v1beta1\n",
    "kind: Ingress\n",
    "metadata:\n",
    "  name: front-app\n",
    "  labels:\n",
    "    helm.sh/chart: front-app-0.1.0\n",
    "    app.kubernetes.io/name: front-app\n",
    "    app.kubernetes.io/instance: front-app\n",
    "    app.kubernetes.io/version: \"1.16.0\"\n",
    "    app.kubernetes.io/managed-by: Helm\n",
    "  annotations:\n",
    "    nginx.ingress.kubernetes.io/rewrite-target: /$2\n",
    "spec:\n",
    "  rules:\n",
    "    - host: \"learn.kdop.net\"\n",
    "      http:\n",
    "        paths:\n",
    "          - path: /adsantos/front-app(/|$)(.*)\n",
    "            backend:\n",
    "              serviceName: front-app\n",
    "              servicePort: 5000\n",
    "```\n",
    "\n",
    "> Você pode imprimir o que será criado pelo helm com o comando `helm template` no lugar de `helm install`.\n",
    "\n",
    "> Sobre TLS ver [README-ingrsss-with-tls.md](README-ingrsss-with-tls.md).\n",
    "\n",
    "Um serviço do tipo **ClusterIP** foi criado e seu seletor são os PODs com labels `app.kubernetes.io/name` e `app.kubernetes.io/instance` com o valor `front-app`. Não importa quantas réplicas existirem, o serviço irá direcionar o tráfego, na forma de _round-robin_, para cada uma delas.\n",
    "\n",
    "Mas _ClusterIP_ é um tipo de serviço que só é visível dentro do cluster, pode ser referênciado pelos containers através do seu nome e porta, neste caso `ping front-app` resultaria no retorno do IP associado ao serviço e `telnet front-app 5000` em uma conexão de sucesso.\n",
    "\n",
    "Para acessar os containers de fora do cluster foi criado uma configuração tipo Ingress, nela foi definido a configuração do frontend que deverá direcionar o tráfego para o backend. Neste cenário, a URL que irá direcionar o tráfego para os nossos containers é http://learn.kdop.net/adsantos/front-app e qualquer caminhos e parâmetros adicionais serão repassados para os nossos containers na forma http://front-app:5000/<o resto da url>."
   ]
  },
  {
   "cell_type": "code",
   "execution_count": 10,
   "metadata": {},
   "outputs": [
    {
     "name": "stdout",
     "output_type": "stream",
     "text": [
      "Name:             cert-app\n",
      "Namespace:        adsantos\n",
      "Address:          13.86.33.72\n",
      "Default backend:  default-http-backend:80 (<error: endpoints \"default-http-backend\" not found>)\n",
      "Rules:\n",
      "  Host            Path  Backends\n",
      "  ----            ----  --------\n",
      "  learn.kdop.net  \n",
      "                  /adsantos/cert-app(/|$)(.*)   cert-app:5000 ()\n",
      "Annotations:      meta.helm.sh/release-name: cert-app\n",
      "                  meta.helm.sh/release-namespace: adsantos\n",
      "                  nginx.ingress.kubernetes.io/rewrite-target: /$2\n",
      "Events:           <none>\n",
      "\n",
      "\n",
      "Name:             front-app\n",
      "Namespace:        adsantos\n",
      "Address:          13.86.33.72\n",
      "Default backend:  default-http-backend:80 (<error: endpoints \"default-http-backend\" not found>)\n",
      "Rules:\n",
      "  Host            Path  Backends\n",
      "  ----            ----  --------\n",
      "  learn.kdop.net  \n",
      "                  /adsantos/front-app(/|$)(.*)   front-app:5000 ()\n",
      "Annotations:      meta.helm.sh/release-name: front-app\n",
      "                  meta.helm.sh/release-namespace: adsantos\n",
      "                  nginx.ingress.kubernetes.io/rewrite-target: /$2\n",
      "Events:           <none>\n"
     ]
    }
   ],
   "source": [
    "kubectl describe ingress -n $myNamespace"
   ]
  },
  {
   "cell_type": "markdown",
   "metadata": {},
   "source": [
    "Mas para essa configuração funcionar é necessário que um Ingress-Controller esteja instalado e lendo o seu namespace a procura desse tipo de configuração.\n",
    "    \n",
    "Neste cluster, o Ingress-Controller instalado é o Nginx, um servidor de web, que funciona como proxy, com um LoadBalancer externo direcionando o tráfego."
   ]
  },
  {
   "cell_type": "code",
   "execution_count": 7,
   "metadata": {},
   "outputs": [
    {
     "name": "stdout",
     "output_type": "stream",
     "text": [
      "NAME                                            READY   STATUS      RESTARTS   AGE\n",
      "pod/ingress-nginx-admission-create-85qfk        0/1     Completed   0          3d20h\n",
      "pod/ingress-nginx-admission-patch-vf2wd         0/1     Completed   0          3d20h\n",
      "pod/ingress-nginx-controller-5947756d78-4r4f6   1/1     Running     6          3d20h\n",
      "\n",
      "NAME                                         TYPE           CLUSTER-IP     EXTERNAL-IP   PORT(S)                      AGE\n",
      "service/ingress-nginx-controller             LoadBalancer   10.0.99.196    13.86.33.72   80:30238/TCP,443:31738/TCP   3d20h\n",
      "service/ingress-nginx-controller-admission   ClusterIP      10.0.156.183   <none>        443/TCP                      3d20h\n",
      "\n",
      "NAME                                       READY   UP-TO-DATE   AVAILABLE   AGE\n",
      "deployment.apps/ingress-nginx-controller   0/1     1            0           3d20h\n",
      "\n",
      "NAME                                                  DESIRED   CURRENT   READY   AGE\n",
      "replicaset.apps/ingress-nginx-controller-5947756d78   1         1         0       3d20h\n",
      "\n",
      "NAME                                       COMPLETIONS   DURATION   AGE\n",
      "job.batch/ingress-nginx-admission-create   1/1           4s         3d20h\n",
      "job.batch/ingress-nginx-admission-patch    1/1           4s         3d20h\n"
     ]
    }
   ],
   "source": [
    "kubectl get all -n ingress-nginx"
   ]
  },
  {
   "cell_type": "markdown",
   "metadata": {},
   "source": [
    "O serviço `ingress-nginx-controller` é do tipo **LoadBalancer** e seu endereço externo foi configurado em um DNS (AWS Route 53) para apontar para o seu IP."
   ]
  },
  {
   "cell_type": "code",
   "execution_count": 8,
   "metadata": {},
   "outputs": [
    {
     "name": "stdout",
     "output_type": "stream",
     "text": [
      "Name:                     ingress-nginx-controller\n",
      "Namespace:                ingress-nginx\n",
      "Labels:                   app.kubernetes.io/component=controller\n",
      "                          app.kubernetes.io/instance=ingress-nginx\n",
      "                          app.kubernetes.io/managed-by=Helm\n",
      "                          app.kubernetes.io/name=ingress-nginx\n",
      "                          app.kubernetes.io/version=0.35.0\n",
      "                          helm.sh/chart=ingress-nginx-2.13.0\n",
      "Annotations:              <none>\n",
      "Selector:                 app.kubernetes.io/component=controller,app.kubernetes.io/instance=ingress-nginx,app.kubernetes.io/name=ingress-nginx\n",
      "Type:                     LoadBalancer\n",
      "IP:                       10.0.99.196\n",
      "LoadBalancer Ingress:     13.86.33.72\n",
      "Port:                     http  80/TCP\n",
      "TargetPort:               http/TCP\n",
      "NodePort:                 http  30238/TCP\n",
      "Endpoints:                \n",
      "Port:                     https  443/TCP\n",
      "TargetPort:               https/TCP\n",
      "NodePort:                 https  31738/TCP\n",
      "Endpoints:                \n",
      "Session Affinity:         None\n",
      "External Traffic Policy:  Local\n",
      "HealthCheck NodePort:     32343\n",
      "Events:                   <none>\n"
     ]
    }
   ],
   "source": [
    "kubectl describe service/ingress-nginx-controller -n ingress-nginx"
   ]
  },
  {
   "cell_type": "markdown",
   "metadata": {},
   "source": [
    "Aqui você pode obter o IP do Ingress-Controller e a quais portas ele esta associado, neste caso 80 (http) e 443 (https)."
   ]
  },
  {
   "cell_type": "markdown",
   "metadata": {},
   "source": [
    "## Projeto back-app\n",
    "\n",
    "1. Publicando o Projeto back-app"
   ]
  },
  {
   "cell_type": "code",
   "execution_count": 22,
   "metadata": {},
   "outputs": [
    {
     "name": "stdout",
     "output_type": "stream",
     "text": [
      "Release \"back-app\" has been upgraded. Happy Helming!\n",
      "NAME: back-app\n",
      "LAST DEPLOYED: Wed Sep 16 22:22:49 2020\n",
      "NAMESPACE: adsantos\n",
      "STATUS: deployed\n",
      "REVISION: 2\n",
      "NOTES:\n",
      "1. Get the application URL by running these commands:\n",
      "  export POD_NAME=$(kubectl get pods --namespace adsantos -l \"app.kubernetes.io/name=back-app,app.kubernetes.io/instance=back-app\" -o jsonpath=\"{.items[0].metadata.name}\")\n",
      "  echo \"Visit http://127.0.0.1:8080 to use your application\"\n",
      "  kubectl --namespace adsantos port-forward $POD_NAME 8080:80\n"
     ]
    }
   ],
   "source": [
    "helm upgrade --install --namespace $myNamespace --create-namespace back-app back-app/helm/back-app"
   ]
  },
  {
   "cell_type": "markdown",
   "metadata": {},
   "source": [
    "2. Consultando os recursos do namespace"
   ]
  },
  {
   "cell_type": "code",
   "execution_count": 23,
   "metadata": {},
   "outputs": [
    {
     "name": "stdout",
     "output_type": "stream",
     "text": [
      "NAME                            READY   STATUS    RESTARTS   AGE\n",
      "pod/back-app-5789c6585f-6x9bp   1/1     Running   1          26h\n",
      "pod/back-app-5f4899d7d9-84s96   0/1     Pending   0          10s\n",
      "pod/cert-app-5b9876fdf8-cfhgf   1/1     Running   1          24h\n",
      "pod/front-app-8bdf9596c-dxccp   1/1     Running   1          24h\n",
      "\n",
      "NAME                TYPE        CLUSTER-IP     EXTERNAL-IP   PORT(S)    AGE\n",
      "service/back-app    ClusterIP   10.0.156.89    <none>        5000/TCP   26h\n",
      "service/cert-app    ClusterIP   10.0.181.3     <none>        5000/TCP   24h\n",
      "service/front-app   ClusterIP   10.0.238.137   <none>        5000/TCP   24h\n",
      "\n",
      "NAME                        READY   UP-TO-DATE   AVAILABLE   AGE\n",
      "deployment.apps/back-app    1/1     1            1           26h\n",
      "deployment.apps/cert-app    1/1     1            1           24h\n",
      "deployment.apps/front-app   1/1     1            1           24h\n",
      "\n",
      "NAME                                  DESIRED   CURRENT   READY   AGE\n",
      "replicaset.apps/back-app-5789c6585f   1         1         1       26h\n",
      "replicaset.apps/back-app-5f4899d7d9   1         1         0       12s\n",
      "replicaset.apps/cert-app-5b9876fdf8   1         1         1       24h\n",
      "replicaset.apps/front-app-8bdf9596c   1         1         1       24h\n"
     ]
    }
   ],
   "source": [
    "kubectl get all -n $myNamespace"
   ]
  },
  {
   "cell_type": "markdown",
   "metadata": {},
   "source": [
    "3. Validando o Serviço\n",
    "\n",
    "    Para acessar o back-app fora do Cluster, necessitamos expor temporariamente o serviço"
   ]
  },
  {
   "cell_type": "code",
   "execution_count": null,
   "metadata": {},
   "outputs": [],
   "source": [
    "kubectl port-forward svc/back-app 8080:5000 -n $myNamespace "
   ]
  },
  {
   "cell_type": "markdown",
   "metadata": {},
   "source": [
    "Consulte o serviço acessando o link abaixo:\n",
    "\n",
    "http://localhost:8080/health\n",
    "\n",
    "Agora que os PODs estão em execução, podemos também validar a aplicação front-app.\n",
    "Verifique no serviço do front-app o IP externo liberado para o loadbalance.\n",
    "\n",
    "[http://\\<ip-loadbalance>:8080/health](http://ip-loadbalance:8080/health)\n",
    "\n",
    "[http://\\<ip-loadbalance>:8080/index](http://ip-loadbalance:8080/index)\n",
    "    \n"
   ]
  },
  {
   "cell_type": "markdown",
   "metadata": {},
   "source": [
    "### Serviços\n",
    "\n",
    "Nesta aplicação foi criado apenas um serviço do tipo ClusterIP, o que isso significa?"
   ]
  },
  {
   "cell_type": "code",
   "execution_count": 13,
   "metadata": {},
   "outputs": [
    {
     "name": "stdout",
     "output_type": "stream",
     "text": [
      "Name:              back-app\n",
      "Namespace:         adsantos\n",
      "Labels:            app.kubernetes.io/instance=back-app\n",
      "                   app.kubernetes.io/managed-by=Helm\n",
      "                   app.kubernetes.io/name=back-app\n",
      "                   app.kubernetes.io/version=1.16.0\n",
      "                   helm.sh/chart=back-app-0.1.0\n",
      "Annotations:       meta.helm.sh/release-name: back-app\n",
      "                   meta.helm.sh/release-namespace: adsantos\n",
      "Selector:          app.kubernetes.io/instance=back-app,app.kubernetes.io/name=back-app\n",
      "Type:              ClusterIP\n",
      "IP:                10.0.156.89\n",
      "Port:              http  5000/TCP\n",
      "TargetPort:        http/TCP\n",
      "Endpoints:         \n",
      "Session Affinity:  None\n",
      "Events:            <none>\n"
     ]
    }
   ],
   "source": [
    "kubectl describe svc/back-app -n $myNamespace"
   ]
  },
  {
   "cell_type": "markdown",
   "metadata": {},
   "source": [
    "### Volumes\n",
    "\n",
    "O conceito de volume para PODs é o mesmo que para máquinas VM ou físicas, é uma área de aramzenamento que será montada em um diretório ou em uma letra (windows).\n",
    "\n",
    "![](media/aks-storage.png)\n",
    "\n",
    "Fonte: [Opções de armazenamento para aplicativos no Serviço de Kubernetes do Azure (AKS)](https://docs.microsoft.com/pt-br/azure/aks/concepts-storage)\n",
    "\n",
    "Existem muitos tipos de armazenamentos, os mais comuns são os efêmeros e os persistentes.\n",
    "\n",
    "* [Efêmeros](https://kubernetes.io/docs/concepts/storage/ephemeral-volumes/): são os mais comuns e são perdidos quando o POD e reiniciado\n",
    "* [Persistente](https://kubernetes.io/docs/concepts/storage/persistent-volumes/): Como o nome diz, são mantidos mesmo durante reinicio dos PODs. O Kubernetes encontra automaticamente os volumes correspondentes aos PODs.\n",
    "\n",
    "Consulte [Kubernetes - Volumes](https://kubernetes.io/docs/concepts/storage/), para mais  opções. Além dos tipos, cada sistema oferece tipos diferentes de armazenamentos, tais como SSDs, discos mecânicos, etc. No kubernetes isso é chamado de Storage Class.\n",
    "\n",
    "Para conhecer as classes de armazenamento disnponíveis no seu cluster, utilize o comando:"
   ]
  },
  {
   "cell_type": "code",
   "execution_count": 24,
   "metadata": {},
   "outputs": [
    {
     "name": "stdout",
     "output_type": "stream",
     "text": [
      "NAME                PROVISIONER                RECLAIMPOLICY   VOLUMEBINDINGMODE   ALLOWVOLUMEEXPANSION   AGE\n",
      "azurefile           kubernetes.io/azure-file   Delete          Immediate           true                   10d\n",
      "azurefile-premium   kubernetes.io/azure-file   Delete          Immediate           true                   10d\n",
      "default (default)   kubernetes.io/azure-disk   Delete          Immediate           true                   26h\n",
      "managed-premium     kubernetes.io/azure-disk   Delete          Immediate           true                   26h\n"
     ]
    }
   ],
   "source": [
    "kubectl get sc"
   ]
  },
  {
   "cell_type": "markdown",
   "metadata": {},
   "source": [
    "Os nomes mudam de acordo com o lugar que o seu cluster está instalado, a lista acima são as classes da Azure.\n",
    "\n",
    "Você pode omitir a classe de aramzenamento, neste caso será utilizada a padrão.\n",
    "\n",
    "A aplicação acima é uma espécie de banco de dados rudimentar e precisa armazenar seus dados de forma persistente, para tal configuramos um volume persistente.\n",
    "\n",
    "Vejamos a configuração:"
   ]
  },
  {
   "cell_type": "code",
   "execution_count": null,
   "metadata": {},
   "outputs": [],
   "source": [
    "helm template --namespace adsantos --create-namespace back-app ./back-app"
   ]
  },
  {
   "cell_type": "markdown",
   "metadata": {},
   "source": [
    "Selecionamos o trecho referente ao volume:\n",
    "\n",
    "```yaml\n",
    "---\n",
    "# Source: back-app/templates/pcv.yaml\n",
    "kind: PersistentVolumeClaim\n",
    "metadata:\n",
    "  name: back-app-managed-disk\n",
    "spec:\n",
    "  accessModes:\n",
    "  - ReadWriteOnce\n",
    "  storageClassName: managed-premium\n",
    "  resources:\n",
    "    requests:\n",
    "      storage: 5Gi\n",
    "---\n",
    "# Source: back-app/templates/deployment.yaml\n",
    "apiVersion: apps/v1\n",
    "kind: Deployment\n",
    "metadata:\n",
    "  name: back-app\n",
    "  labels:\n",
    "    helm.sh/chart: back-app-0.1.0\n",
    "    app.kubernetes.io/name: back-app\n",
    "    app.kubernetes.io/instance: back-app\n",
    "    app.kubernetes.io/version: \"1.16.0\"\n",
    "    app.kubernetes.io/managed-by: Helm\n",
    "spec:\n",
    "  replicas: 1\n",
    "  selector:\n",
    "    matchLabels:\n",
    "      app.kubernetes.io/name: back-app\n",
    "      app.kubernetes.io/instance: back-app\n",
    "  template:\n",
    "    metadata:\n",
    "      labels:\n",
    "        app.kubernetes.io/name: back-app\n",
    "        app.kubernetes.io/instance: back-app\n",
    "    spec:\n",
    "      serviceAccountName: back-app\n",
    "      securityContext:\n",
    "        {}\n",
    "      containers:\n",
    "        - name: back-app\n",
    "          securityContext:\n",
    "            {}\n",
    "          image: \"kdop/back-app:0.0.1\"\n",
    "          imagePullPolicy: Always\n",
    "          ports:\n",
    "            - name: http\n",
    "              containerPort: 5000\n",
    "              protocol: TCP\n",
    "          livenessProbe:\n",
    "            httpGet:\n",
    "              path: /health\n",
    "              port: http\n",
    "          readinessProbe:\n",
    "            httpGet:\n",
    "              path: /health\n",
    "              port: http\n",
    "          resources:\n",
    "            limits:\n",
    "              cpu: 200m\n",
    "              memory: 256Mi\n",
    "            requests:\n",
    "              cpu: 200m\n",
    "              memory: 256Mi\n",
    "          volumeMounts:\n",
    "          - mountPath: \"/tmp/inovacao/back-app\"\n",
    "            name: back-volume\n",
    "      volumes:\n",
    "        - name: back-volume\n",
    "          persistentVolumeClaim:\n",
    "            claimName: back-app-managed-disk\n",
    "```\n",
    "\n",
    "Um `PersistentVolume` foi criado dinamicamente em resposta ao nosso `PersistentVolumeClaim`. O K8s interage com as APIs da Azure para criar o PV na forma de um disco.\n",
    "\n",
    "Você pode criar seus `PersistentVolume` e/ou associá-los a discos já existentes."
   ]
  },
  {
   "cell_type": "code",
   "execution_count": 25,
   "metadata": {},
   "outputs": [
    {
     "name": "stdout",
     "output_type": "stream",
     "text": [
      "NAME                                       CAPACITY   ACCESS MODES   RECLAIM POLICY   STATUS   CLAIM                            STORAGECLASS      REASON   AGE\n",
      "pvc-90ee8994-8127-4ba7-af14-92853811d9d8   1Gi        RWO            Delete           Bound    kdop/hub-db-dir                  default                    10d\n",
      "pvc-fa9ba3f9-d459-4dac-9d5b-d8ac8f1cb6cf   5Gi        RWO            Delete           Bound    adsantos/back-app-managed-disk   managed-premium            18m\n"
     ]
    }
   ],
   "source": [
    "kubectl get pv"
   ]
  },
  {
   "cell_type": "markdown",
   "metadata": {},
   "source": [
    "O comando `get pv` listou dois `PersistentVolumes`, um de 1Gi e outro de 5Gi, que é o que criamos para nossa aplicação.\n",
    "\n",
    "Na figura abaixo, você pode ver os dois discos na Azure.\n",
    "\n",
    "![](media/azure-disks.png)\n",
    "\n",
    "Se você descrever o `PersistentVolume` de 5Gi, verá alguns labels que descrevem sua origem."
   ]
  },
  {
   "cell_type": "code",
   "execution_count": 29,
   "metadata": {},
   "outputs": [
    {
     "name": "stdout",
     "output_type": "stream",
     "text": [
      "Name:              pvc-fa9ba3f9-d459-4dac-9d5b-d8ac8f1cb6cf\n",
      "Labels:            failure-domain.beta.kubernetes.io/region=centralus\n",
      "Annotations:       pv.kubernetes.io/bound-by-controller: yes\n",
      "                   pv.kubernetes.io/provisioned-by: kubernetes.io/azure-disk\n",
      "                   volumehelper.VolumeDynamicallyCreatedByKey: azure-disk-dynamic-provisioner\n",
      "Finalizers:        [kubernetes.io/pv-protection]\n",
      "StorageClass:      managed-premium\n",
      "Status:            Bound\n",
      "Claim:             adsantos/back-app-managed-disk\n",
      "Reclaim Policy:    Delete\n",
      "Access Modes:      RWO\n",
      "VolumeMode:        Filesystem\n",
      "Capacity:          5Gi\n",
      "Node Affinity:     \n",
      "  Required Terms:  \n",
      "    Term 0:        failure-domain.beta.kubernetes.io/region in [centralus]\n",
      "Message:           \n",
      "Source:\n",
      "    Type:         AzureDisk (an Azure Data Disk mount on the host and bind mount to the pod)\n",
      "    DiskName:     kubernetes-dynamic-pvc-fa9ba3f9-d459-4dac-9d5b-d8ac8f1cb6cf\n",
      "    DiskURI:      /subscriptions/73c8b399-a4ed-44b8-af3f-081a94ca1f65/resourceGroups/mc_kdop-learning_kdop_centralus/providers/Microsoft.Compute/disks/kubernetes-dynamic-pvc-fa9ba3f9-d459-4dac-9d5b-d8ac8f1cb6cf\n",
      "    Kind:         Managed\n",
      "    FSType:       \n",
      "    CachingMode:  ReadOnly\n",
      "    ReadOnly:     false\n",
      "Events:           <none>\n"
     ]
    }
   ],
   "source": [
    "kubectl describe pv/pvc-fa9ba3f9-d459-4dac-9d5b-d8ac8f1cb6cf"
   ]
  },
  {
   "cell_type": "markdown",
   "metadata": {},
   "source": [
    "Um olhar mais detalhado no disco na Azure revelará como o Kubernetes faz sua mágica para encontrar seus volumes e seus respectivos donos.\n",
    "\n",
    "![](media/azure-disk.png)\n",
    "\n",
    "Descreva o seu `PersistentVolumeClaim` e você encontrará os mesmos labels."
   ]
  },
  {
   "cell_type": "code",
   "execution_count": 30,
   "metadata": {},
   "outputs": [
    {
     "name": "stdout",
     "output_type": "stream",
     "text": [
      "Name:          back-app-managed-disk\n",
      "Namespace:     adsantos\n",
      "StorageClass:  managed-premium\n",
      "Status:        Bound\n",
      "Volume:        pvc-fa9ba3f9-d459-4dac-9d5b-d8ac8f1cb6cf\n",
      "Labels:        app.kubernetes.io/managed-by=Helm\n",
      "Annotations:   meta.helm.sh/release-name: back-app\n",
      "               meta.helm.sh/release-namespace: adsantos\n",
      "               pv.kubernetes.io/bind-completed: yes\n",
      "               pv.kubernetes.io/bound-by-controller: yes\n",
      "               volume.beta.kubernetes.io/storage-provisioner: kubernetes.io/azure-disk\n",
      "Finalizers:    [kubernetes.io/pvc-protection]\n",
      "Capacity:      5Gi\n",
      "Access Modes:  RWO\n",
      "VolumeMode:    Filesystem\n",
      "Mounted By:    back-app-5f4899d7d9-84s96\n",
      "Events:\n",
      "  Type    Reason                 Age   From                         Message\n",
      "  ----    ------                 ----  ----                         -------\n",
      "  Normal  ProvisioningSucceeded  28m   persistentvolume-controller  Successfully provisioned volume pvc-fa9ba3f9-d459-4dac-9d5b-d8ac8f1cb6cf using kubernetes.io/azure-disk\n"
     ]
    }
   ],
   "source": [
    "kubectl describe pvc/back-app-managed-disk -n adsantos"
   ]
  },
  {
   "cell_type": "markdown",
   "metadata": {},
   "source": [
    "## Projeto cert-app\n",
    "\n",
    "1. Publicando o Projeto cert-app"
   ]
  },
  {
   "cell_type": "code",
   "execution_count": null,
   "metadata": {},
   "outputs": [],
   "source": [
    "helm upgrade --install --namespace $myNamespace --create-namespace cert-app cert-app/helm/cert-app"
   ]
  },
  {
   "cell_type": "markdown",
   "metadata": {},
   "source": [
    "2. Consultando os recursos do namespace"
   ]
  },
  {
   "cell_type": "code",
   "execution_count": null,
   "metadata": {},
   "outputs": [],
   "source": [
    "kubectl get all -n $myNamespace "
   ]
  },
  {
   "cell_type": "markdown",
   "metadata": {},
   "source": [
    "3. Validando o Serviço\n",
    "\n",
    "    Expor o serviço temporariamente para validação"
   ]
  },
  {
   "cell_type": "code",
   "execution_count": null,
   "metadata": {},
   "outputs": [],
   "source": [
    "kubectl port-forward svc/cert-app 8080:5000 -n $myNamespace "
   ]
  },
  {
   "cell_type": "markdown",
   "metadata": {},
   "source": [
    "### O tráfego de requisições.\n",
    "\n",
    "O cert-app foi criado originalmente para ser utilizado apenas pela aplicação front-app, mas foi necessário expó-lo para outras aplicações fora do cluster. Uma vez que ele era coeso e desacoplado da aplicação front-app, a solução era simplesmente criar um endpoint.\n",
    "\n",
    "Como você resolveria isso? Sabendo que o cert-app já tem um serviço do tipo ClusterIP que é acessado pela front-app no endereço http://cert-app:5000/get-cert?p=MyName."
   ]
  },
  {
   "cell_type": "code",
   "execution_count": 16,
   "metadata": {},
   "outputs": [
    {
     "name": "stdout",
     "output_type": "stream",
     "text": [
      "NAME       TYPE        CLUSTER-IP   EXTERNAL-IP   PORT(S)    AGE\n",
      "cert-app   ClusterIP   10.0.181.3   <none>        5000/TCP   22h\n"
     ]
    }
   ],
   "source": [
    "kubectl get svc/cert-app -n $myNamespace"
   ]
  },
  {
   "cell_type": "markdown",
   "metadata": {},
   "source": [
    "Qual o comando para descrever a solução dada?"
   ]
  },
  {
   "cell_type": "code",
   "execution_count": 20,
   "metadata": {},
   "outputs": [
    {
     "name": "stdout",
     "output_type": "stream",
     "text": [
      "Name:             cert-app\n",
      "Namespace:        adsantos\n",
      "Address:          13.86.33.72\n",
      "Default backend:  default-http-backend:80 (<error: endpoints \"default-http-backend\" not found>)\n",
      "Rules:\n",
      "  Host            Path  Backends\n",
      "  ----            ----  --------\n",
      "  learn.kdop.net  \n",
      "                  /adsantos/cert-app(/|$)(.*)   cert-app:5000 ()\n",
      "Annotations:      meta.helm.sh/release-name: cert-app\n",
      "                  meta.helm.sh/release-namespace: adsantos\n",
      "                  nginx.ingress.kubernetes.io/rewrite-target: /$2\n",
      "Events:           <none>\n"
     ]
    }
   ],
   "source": [
    "# digite o comando aqui e ctrl+enter ou command+enter\n",
    "kubectl describe ingress/cert-app -n $myNamespace"
   ]
  },
  {
   "cell_type": "markdown",
   "metadata": {},
   "source": [
    "Consulte o serviço acessando o link abaixo:\n",
    "\n",
    "http://localhost:8080/health\n",
    "\n",
    "## Excluindo as aplicações"
   ]
  },
  {
   "cell_type": "code",
   "execution_count": null,
   "metadata": {},
   "outputs": [],
   "source": [
    "helm delete front-app --namespace $myNamespace  \n",
    "helm delete back-app --namespace $myNamespace \n",
    "helm delete cert-app --namespace $myNamespace \n",
    "kubectl delete ns $myNamespace "
   ]
  },
  {
   "cell_type": "markdown",
   "metadata": {},
   "source": [
    "[<img align=\"left\" src=\"media/voltar.png\" width=\"100\"/>](02_Kubernetes.ipynb)\n"
   ]
  },
  {
   "cell_type": "markdown",
   "metadata": {},
   "source": [
    "ToDo:\n",
    "* Preparar livenessProbe e readnessProbe\n",
    "* Preparar ConfigMap e Secret\n",
    "* Preparar resource request e limits\n",
    "* Preparar HPA\n",
    "* comando para o helm listar o que executou"
   ]
  }
 ],
 "metadata": {
  "kernelspec": {
   "display_name": "Bash",
   "language": "bash",
   "name": "bash"
  },
  "language_info": {
   "codemirror_mode": "shell",
   "file_extension": ".sh",
   "mimetype": "text/x-sh",
   "name": "bash"
  }
 },
 "nbformat": 4,
 "nbformat_minor": 4
}
