{
 "cells": [
  {
   "cell_type": "markdown",
   "metadata": {},
   "source": [
    "# [Helm](https://helm.sh/docs/)\n",
    "\n",
    "Helm é o gerenciador de pacotes do Kubernetes.\n",
    "\n",
    "Já vimos como criar cada recurso separadamente. O Helm realiza a gestão dos recursos (ns, deploy, svc, ...) desta forma, com apenas um comando, podemos implantar, alterar e excluir todo nosso projeto."
   ]
  },
  {
   "cell_type": "code",
   "execution_count": 1,
   "metadata": {},
   "outputs": [
    {
     "name": "stdout",
     "output_type": "stream",
     "text": [
      "version.BuildInfo{Version:\"v3.3.1\", GitCommit:\"249e5215cde0c3fa72e27eb7a30e8d55c9696144\", GitTreeState:\"clean\", GoVersion:\"go1.14.7\"}\n"
     ]
    }
   ],
   "source": [
    "helm version"
   ]
  },
  {
   "cell_type": "markdown",
   "metadata": {},
   "source": [
    "Para criar o helm, executamos o comando abaixo:  \n",
    "\n",
    "```\n",
    "helm create \\<nome-aplicacao>\n",
    "```\n",
    "\n",
    "Este comando irá criar a estrutura abaixo:\n",
    "```\n",
    "<nome-aplicacao>/\n",
    "├── Chart.yaml      # Informações Técnicas\n",
    "├── values.yaml     # Variáveis e Valores\n",
    "└── templates/      # Modelos de Deployments, Services e todos outros recursos\n",
    "```\n",
    "\n",
    "[Helm do Projeto front-app](https://github.com/kdop-dev/front-app/tree/master/helm/front-app)"
   ]
  },
  {
   "cell_type": "markdown",
   "metadata": {},
   "source": [
    "## Preparando o acesso ao Ambiente"
   ]
  },
  {
   "cell_type": "code",
   "execution_count": 2,
   "metadata": {},
   "outputs": [
    {
     "name": "stdout",
     "output_type": "stream",
     "text": [
      "/home/jovyan/work/inovacao\n"
     ]
    }
   ],
   "source": [
    "export KUBECONFIG=$PWD/kubeconfig\n",
    "mkdir -p work/inovacao\n",
    "cd $PWD/work/inovacao\n",
    "echo $PWD"
   ]
  },
  {
   "cell_type": "markdown",
   "metadata": {},
   "source": [
    "## Projeto front-app\n",
    "\n",
    "1. Publicando o Projeto front-app\n",
    "\n",
    "    Para a publicar a aplicação via helm, podemos utilizar duas formas:\n",
    "    * **helm install** - Comando para publicação da aplicação.\n",
    "    * **helm upgrade** - Comando para atualização da aplicação. Passando o parâmetro **--install** ele publica a aplicação, caso não exista."
   ]
  },
  {
   "cell_type": "code",
   "execution_count": 4,
   "metadata": {},
   "outputs": [],
   "source": [
    "#Informe um nome para o namespace\n",
    "myNamespace=\"adsantos\""
   ]
  },
  {
   "cell_type": "code",
   "execution_count": null,
   "metadata": {
    "tags": []
   },
   "outputs": [],
   "source": [
    "#helm install --namespace $myNamespace --create-namespace front-app front-app/helm/front-app\n",
    "helm upgrade --install --namespace $myNamespace --create-namespace front-app front-app/helm/front-app"
   ]
  },
  {
   "cell_type": "markdown",
   "metadata": {},
   "source": [
    "2. Listando os helms do namespace"
   ]
  },
  {
   "cell_type": "code",
   "execution_count": 6,
   "metadata": {},
   "outputs": [
    {
     "name": "stdout",
     "output_type": "stream",
     "text": [
      "NAME     \tNAMESPACE\tREVISION\tUPDATED                               \tSTATUS  \tCHART          \tAPP VERSION\n",
      "back-app \tadsantos \t3       \t2020-09-18 17:17:12.239461 -0300 -0300\tdeployed\tback-app-0.1.0 \t1.16.0     \n",
      "cert-app \tadsantos \t2       \t2020-09-18 17:36:02.55048 -0300 -0300 \tdeployed\tcert-app-0.1.0 \t1.16.0     \n",
      "front-app\tadsantos \t6       \t2020-09-18 18:37:55.091191 -0300 -0300\tdeployed\tfront-app-0.1.0\t1.16.0     \n"
     ]
    }
   ],
   "source": [
    "helm list --namespace $myNamespace "
   ]
  },
  {
   "cell_type": "markdown",
   "metadata": {},
   "source": [
    "3. Consultando os recursos do namespace"
   ]
  },
  {
   "cell_type": "code",
   "execution_count": 7,
   "metadata": {},
   "outputs": [
    {
     "name": "stdout",
     "output_type": "stream",
     "text": [
      "NAME                             READY   STATUS    RESTARTS   AGE\n",
      "pod/back-app-588746f946-zsppn    1/1     Running   0          3d16h\n",
      "pod/cert-app-776f86cdf7-rmwbq    1/1     Running   0          3d16h\n",
      "pod/front-app-7fc6bb89ff-l27w6   1/1     Running   0          3d13h\n",
      "\n",
      "NAME                TYPE        CLUSTER-IP     EXTERNAL-IP   PORT(S)    AGE\n",
      "service/back-app    ClusterIP   10.0.200.175   <none>        5000/TCP   3d16h\n",
      "service/cert-app    ClusterIP   10.0.254.14    <none>        5000/TCP   3d16h\n",
      "service/front-app   ClusterIP   10.0.253.1     <none>        5000/TCP   3d16h\n",
      "\n",
      "NAME                        READY   UP-TO-DATE   AVAILABLE   AGE\n",
      "deployment.apps/back-app    0/1     1            0           3d16h\n",
      "deployment.apps/cert-app    0/1     1            0           3d16h\n",
      "deployment.apps/front-app   0/1     1            0           3d16h\n",
      "\n",
      "NAME                                   DESIRED   CURRENT   READY   AGE\n",
      "replicaset.apps/back-app-588746f946    1         1         0       3d16h\n",
      "replicaset.apps/cert-app-776f86cdf7    1         1         0       3d16h\n",
      "replicaset.apps/front-app-7fc6bb89ff   1         1         0       3d15h\n",
      "\n",
      "NAME                                            REFERENCE              TARGETS            MINPODS   MAXPODS   REPLICAS   AGE\n",
      "horizontalpodautoscaler.autoscaling/back-app    Deployment/back-app    63%/80%, 20%/80%   1         2         1          3d16h\n",
      "horizontalpodautoscaler.autoscaling/cert-app    Deployment/cert-app    63%/90%, 10%/80%   1         2         1          3d16h\n",
      "horizontalpodautoscaler.autoscaling/front-app   Deployment/front-app   45%/95%, 10%/80%   1         2         1          3d16h\n"
     ]
    }
   ],
   "source": [
    "kubectl get all -n $myNamespace"
   ]
  },
  {
   "cell_type": "markdown",
   "metadata": {},
   "source": [
    "4. Verificando o problema no POD"
   ]
  },
  {
   "cell_type": "code",
   "execution_count": null,
   "metadata": {},
   "outputs": [],
   "source": [
    "kubectl describe pod <insert-pod-name-here> -n $myNamespace "
   ]
  },
  {
   "cell_type": "markdown",
   "metadata": {},
   "source": [
    "* O POD necessita da aplicação back-app para poder ser executada.\n",
    "  * **livenessProbe**: Verifica a saúde do container. Somente se o container estiver em saudável, o POD entrará em execução.    \n",
    "```yaml\n",
    "        livenessProbe:\n",
    "            httpGet:\n",
    "              path: /health\n",
    "              port: http\n",
    "            initialDelaySeconds: 3 # Tempo para realizar a primeira validação\n",
    "            periodSeconds: 10      # Tempo em que será realizada a sondagem da atividade.\n",
    "```\n",
    "  </br>\n",
    "  * **readinessProbe**: Indica se o contêiner está pronto para atender às solicitações. Se a análise de prontidão falhar, o controlador de terminais removerá o endereço IP do Pod dos terminais de todos os Serviços que correspondem ao Pod. \n",
    "```yaml\n",
    "        readinessProbe:\n",
    "            httpGet:\n",
    "              path: /health\n",
    "              port: http\n",
    "            initialDelaySeconds: 3 # Tempo para realizar a primeira validação\n",
    "            periodSeconds: 10      # Tempo em que será realizada a sondagem da atividade.\n",
    "```\n",
    "  </br>\n",
    "  * **startupProbe**: Indica se o aplicativo no contêiner foi iniciado. Todas as outras análises serão desativadas se uma sonda de inicialização for fornecida, até que seja bem-sucedida. Se a sonda de inicialização falhar, o kubelet matará o Container e o Container será sujeita à sua política de reinicialização.\n",
    "```yaml\n",
    "        startupProbe:\n",
    "            httpGet:\n",
    "              path: /health\n",
    "              port: http\n",
    "            initialDelaySeconds: 3 # Tempo para realizar a primeira validação\n",
    "            periodSeconds: 10      # Tempo em que será realizada a sondagem da atividade.\n",
    "```\n",
    "</br>\n",
    "    Pode-se verificar a saúde do POD de 3 formas:  </br>\n",
    "    1. executar um comando dentro de um contêiner   </br>    \n",
    "    2. fazer uma solicitação HTTP em um contêiner  </br>\n",
    "    (Código maior ou igual a 200 e menor que 400 indica sucesso. Qualquer outro código indica falha.) </br>\n",
    "    3. abrir um soquete TCP em um contêiner.\n"
   ]
  },
  {
   "cell_type": "markdown",
   "metadata": {},
   "source": [
    "### Como as requisições chegam aos containers?\n",
    "\n",
    "Existem algumas alternativas para expor nossa aplicação utilizando [serviços](https://kubernetes.io/docs/concepts/services-networking/service/), tais como ClusterIP, LoadBalancer, NodePort, ExternalName. O Ingress não é um serviço é uma configuração para uma aplicação (ingress controller) direcionar o tráfego para o nosso serviço.\n",
    "\n",
    "![](media/nginx-ingress.png)\n",
    "\n",
    "Fonte para os ícones: <https://github.com/kubernetes/community/tree/master/icons>\n",
    "\n",
    "No namespace ingress-nginx está instalado o Ingress Controller, ele é um [Servidor Web Nginx](https://github.com/nginxinc/kubernetes-ingress) modificado e integrado com o kubernetes. Existem outros Ingress Controller, para uma lista mais extensiva acesse [Kubernetes Ingress Controller Overview](https://medium.com/swlh/kubernetes-ingress-controller-overview-81abbaca19ec).\n",
    "\n",
    "#### Ingress\n",
    "\n",
    "Como configuramos o nosso ingress? Isso depende de como queremos que ele seja acessado, novamente existem várias opções, as mais comuns são:\n",
    "\n",
    "* Domínio: front-app.com\n",
    "* Subdominio: front-app.kdop.net\n",
    "* Caminho: kdop.net/front-app\n",
    "\n",
    "Para esta aplicação configuramos a terceira opção. Vamos abrir o arquivo [values.yaml](work/inovacao/front-app/helm/front-app/values.yaml) para entender como foi configurado.\n",
    "\n",
    "```yaml\n",
    "service:\n",
    "  type: ClusterIP\n",
    "  port: 5000\n",
    "\n",
    "ingress:\n",
    "  enabled: true\n",
    "  annotations:\n",
    "    nginx.ingress.kubernetes.io/rewrite-target: /$2\n",
    "  hosts:\n",
    "    - host: learn.kdop.net\n",
    "      paths:\n",
    "      - /adsantos/front-app(/|$)(.*)\n",
    "  tls: []\n",
    "```\n",
    "\n",
    "Esses parâmetros, quando aplicados pelo helm aos templates de serviço e ingress irão criar a seguinte configuração:\n",
    "\n",
    "```yaml\n",
    "---\n",
    "# Source: front-app/templates/service.yaml\n",
    "apiVersion: v1\n",
    "kind: Service\n",
    "metadata:\n",
    "  name: front-app\n",
    "  labels:\n",
    "    helm.sh/chart: front-app-0.1.0\n",
    "    app.kubernetes.io/name: front-app\n",
    "    app.kubernetes.io/instance: front-app\n",
    "    app.kubernetes.io/version: \"1.16.0\"\n",
    "    app.kubernetes.io/managed-by: Helm\n",
    "spec:\n",
    "  type: ClusterIP\n",
    "  ports:\n",
    "    - port: 5000\n",
    "      targetPort: http\n",
    "      protocol: TCP\n",
    "      name: http\n",
    "  selector:\n",
    "    app.kubernetes.io/name: front-app\n",
    "    app.kubernetes.io/instance: front-app\n",
    "---\n",
    "# Source: front-app/templates/ingress.yaml\n",
    "apiVersion: networking.k8s.io/v1beta1\n",
    "kind: Ingress\n",
    "metadata:\n",
    "  name: front-app\n",
    "  labels:\n",
    "    helm.sh/chart: front-app-0.1.0\n",
    "    app.kubernetes.io/name: front-app\n",
    "    app.kubernetes.io/instance: front-app\n",
    "    app.kubernetes.io/version: \"1.16.0\"\n",
    "    app.kubernetes.io/managed-by: Helm\n",
    "  annotations:\n",
    "    nginx.ingress.kubernetes.io/rewrite-target: /$2\n",
    "spec:\n",
    "  rules:\n",
    "    - host: \"learn.kdop.net\"\n",
    "      http:\n",
    "        paths:\n",
    "          - path: /adsantos/front-app(/|$)(.*)\n",
    "            backend:\n",
    "              serviceName: front-app\n",
    "              servicePort: 5000\n",
    "```\n",
    "\n",
    "> Você pode imprimir o que será criado pelo helm com o comando `helm template` no lugar de `helm install`.\n",
    "\n",
    "> Sobre TLS ver [README-ingresss-with-tls.md](README-ingresss-with-tls.md).\n",
    "\n",
    "Um serviço do tipo **ClusterIP** foi criado e seu seletor são os PODs com labels `app.kubernetes.io/name` e `app.kubernetes.io/instance` com o valor `front-app`. Não importa quantas réplicas existirem, o serviço irá direcionar o tráfego, na forma de _round-robin_, para cada uma delas.\n",
    "\n",
    "Mas _ClusterIP_ é um tipo de serviço que só é visível dentro do cluster, pode ser referênciado pelos containers através do seu nome e porta, neste caso `ping front-app` resultaria no retorno do IP associado ao serviço e `telnet front-app 5000` em uma conexão de sucesso.\n",
    "\n",
    "Para acessar os containers de fora do cluster foi criado uma configuração tipo Ingress, nela foi definido a configuração do frontend que deverá direcionar o tráfego para o backend. Neste cenário, a URL que irá direcionar o tráfego para os nossos containers é http://learn.kdop.net/adsantos/front-app e qualquer caminhos e parâmetros adicionais serão repassados para os nossos containers na forma http://front-app:5000/<o resto da url>."
   ]
  },
  {
   "cell_type": "code",
   "execution_count": 10,
   "metadata": {},
   "outputs": [
    {
     "name": "stdout",
     "output_type": "stream",
     "text": [
      "Name:             cert-app\n",
      "Namespace:        adsantos\n",
      "Address:          13.86.33.72\n",
      "Default backend:  default-http-backend:80 (<error: endpoints \"default-http-backend\" not found>)\n",
      "Rules:\n",
      "  Host                          Path  Backends\n",
      "  ----                          ----  --------\n",
      "  learn.kdop.net                \n",
      "                                /adsantos/cert-app(/|$)(.*)   cert-app:5000 ()\n",
      "  kdop-learn.krthomolog.com.br  \n",
      "                                /adsantos/cert-app(/|$)(.*)   cert-app:5000 ()\n",
      "Annotations:                    meta.helm.sh/release-name: cert-app\n",
      "                                meta.helm.sh/release-namespace: adsantos\n",
      "                                nginx.ingress.kubernetes.io/rewrite-target: /$2\n",
      "Events:                         <none>\n",
      "\n",
      "\n",
      "Name:             front-app\n",
      "Namespace:        adsantos\n",
      "Address:          13.86.33.72\n",
      "Default backend:  default-http-backend:80 (<error: endpoints \"default-http-backend\" not found>)\n",
      "Rules:\n",
      "  Host                          Path  Backends\n",
      "  ----                          ----  --------\n",
      "  learn.kdop.net                \n",
      "                                /adsantos/front-app(/|$)(.*)   front-app:5000 ()\n",
      "  kdop-learn.krthomolog.com.br  \n",
      "                                /adsantos/front-app(/|$)(.*)   front-app:5000 ()\n",
      "Annotations:                    meta.helm.sh/release-name: front-app\n",
      "                                meta.helm.sh/release-namespace: adsantos\n",
      "                                nginx.ingress.kubernetes.io/rewrite-target: /$2\n",
      "Events:                         <none>\n"
     ]
    }
   ],
   "source": [
    "kubectl describe ingress -n $myNamespace"
   ]
  },
  {
   "cell_type": "markdown",
   "metadata": {},
   "source": [
    "Mas para essa configuração funcionar é necessário que um Ingress-Controller esteja instalado e lendo o seu namespace a procura desse tipo de configuração.\n",
    "    \n",
    "Neste cluster, o Ingress-Controller instalado é o Nginx, um servidor de web, que funciona como proxy, com um LoadBalancer externo direcionando o tráfego."
   ]
  },
  {
   "cell_type": "code",
   "execution_count": 9,
   "metadata": {},
   "outputs": [
    {
     "name": "stdout",
     "output_type": "stream",
     "text": [
      "NAME                                            READY   STATUS      RESTARTS   AGE\n",
      "pod/ingress-nginx-admission-create-85qfk        0/1     Completed   0          9d\n",
      "pod/ingress-nginx-admission-patch-vf2wd         0/1     Completed   0          9d\n",
      "pod/ingress-nginx-controller-5859f5cd59-9gn6t   1/1     Running     0          3d13h\n",
      "\n",
      "NAME                                         TYPE           CLUSTER-IP     EXTERNAL-IP   PORT(S)                      AGE\n",
      "service/ingress-nginx-controller             LoadBalancer   10.0.99.196    13.86.33.72   80:30238/TCP,443:31738/TCP   9d\n",
      "service/ingress-nginx-controller-admission   ClusterIP      10.0.156.183   <none>        443/TCP                      9d\n",
      "\n",
      "NAME                                       READY   UP-TO-DATE   AVAILABLE   AGE\n",
      "deployment.apps/ingress-nginx-controller   0/1     1            0           9d\n",
      "\n",
      "NAME                                                  DESIRED   CURRENT   READY   AGE\n",
      "replicaset.apps/ingress-nginx-controller-5859f5cd59   1         1         0       4d15h\n",
      "replicaset.apps/ingress-nginx-controller-5947756d78   0         0         0       9d\n",
      "replicaset.apps/ingress-nginx-controller-5c98d975c4   0         0         0       4d15h\n",
      "replicaset.apps/ingress-nginx-controller-5f89bcccb4   0         0         0       4d15h\n",
      "replicaset.apps/ingress-nginx-controller-64b6bb4798   0         0         0       4d15h\n",
      "replicaset.apps/ingress-nginx-controller-777cdcc45d   0         0         0       3d15h\n",
      "replicaset.apps/ingress-nginx-controller-77cd68d7bd   0         0         0       3d14h\n",
      "\n",
      "NAME                                       COMPLETIONS   DURATION   AGE\n",
      "job.batch/ingress-nginx-admission-create   1/1           4s         9d\n",
      "job.batch/ingress-nginx-admission-patch    1/1           4s         9d\n"
     ]
    }
   ],
   "source": [
    "kubectl get all -n ingress-nginx"
   ]
  },
  {
   "cell_type": "markdown",
   "metadata": {},
   "source": [
    "O serviço `ingress-nginx-controller` é do tipo **LoadBalancer** e seu endereço externo foi configurado em um DNS (AWS Route 53) para apontar para o seu IP."
   ]
  },
  {
   "cell_type": "code",
   "execution_count": 8,
   "metadata": {},
   "outputs": [
    {
     "name": "stdout",
     "output_type": "stream",
     "text": [
      "Name:                     ingress-nginx-controller\n",
      "Namespace:                ingress-nginx\n",
      "Labels:                   app.kubernetes.io/component=controller\n",
      "                          app.kubernetes.io/instance=ingress-nginx\n",
      "                          app.kubernetes.io/managed-by=Helm\n",
      "                          app.kubernetes.io/name=ingress-nginx\n",
      "                          app.kubernetes.io/version=0.35.0\n",
      "                          helm.sh/chart=ingress-nginx-2.13.0\n",
      "Annotations:              <none>\n",
      "Selector:                 app.kubernetes.io/component=controller,app.kubernetes.io/instance=ingress-nginx,app.kubernetes.io/name=ingress-nginx\n",
      "Type:                     LoadBalancer\n",
      "IP:                       10.0.99.196\n",
      "LoadBalancer Ingress:     13.86.33.72\n",
      "Port:                     http  80/TCP\n",
      "TargetPort:               http/TCP\n",
      "NodePort:                 http  30238/TCP\n",
      "Endpoints:                \n",
      "Port:                     https  443/TCP\n",
      "TargetPort:               https/TCP\n",
      "NodePort:                 https  31738/TCP\n",
      "Endpoints:                \n",
      "Session Affinity:         None\n",
      "External Traffic Policy:  Local\n",
      "HealthCheck NodePort:     32343\n",
      "Events:                   <none>\n"
     ]
    }
   ],
   "source": [
    "kubectl describe service/ingress-nginx-controller -n ingress-nginx"
   ]
  },
  {
   "cell_type": "markdown",
   "metadata": {},
   "source": [
    "Aqui você pode obter o IP do Ingress-Controller e a quais portas ele esta associado, neste caso 80 (http) e 443 (https)."
   ]
  },
  {
   "cell_type": "markdown",
   "metadata": {},
   "source": [
    "[<img align=\"left\" src=\"media/voltar.png\" width=\"100\"/>](02_Kubernetes.ipynb) [<img align=\"right\" src=\"media/avancar.png\" width=\"100\"/>](04_Back.ipynb)\n"
   ]
  }
 ],
 "metadata": {
  "kernelspec": {
   "display_name": "Bash",
   "language": "bash",
   "name": "bash"
  },
  "language_info": {
   "codemirror_mode": "shell",
   "file_extension": ".sh",
   "mimetype": "text/x-sh",
   "name": "bash"
  }
 },
 "nbformat": 4,
 "nbformat_minor": 4
}
