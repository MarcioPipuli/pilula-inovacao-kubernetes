{
 "cells": [
  {
   "cell_type": "markdown",
   "metadata": {},
   "source": [
    "# O Projeto\n",
    "\n",
    "Para este treinamento, iremos utilizar 3 aplicações desenvolvidas em python. \n",
    "* [front-app](https://github.com/kdop-dev/front-app)\n",
    "* [back-app](https://github.com/kdop-dev/back-app)\n",
    "* [cert-app](https://github.com/kdop-dev/cert-app)\n",
    "\n",
    "O front-app possui integração com o back-app e o cert-app.\n",
    "\n",
    "```\n",
    "╭───────────╮      ╭──────────╮\n",
    "│ front-app ├──────┤ back-app │ \n",
    "╰─────┬─────╯      ╰──────────╯\n",
    "      │            ╭──────────╮\n",
    "      ╰────────────┤ cert-app │ \n",
    "                   ╰──────────╯ \n",
    "```\n",
    "\n",
    "## Baixando o Projeto\n",
    "\n",
    "1. Criar o diretório para baixar os projetos do repositório"
   ]
  },
  {
   "cell_type": "code",
   "execution_count": 2,
   "metadata": {},
   "outputs": [
    {
     "name": "stdout",
     "output_type": "stream",
     "text": [
      "git version 2.25.1\n"
     ]
    }
   ],
   "source": [
    "git version"
   ]
  },
  {
   "cell_type": "code",
   "execution_count": 1,
   "metadata": {},
   "outputs": [
    {
     "name": "stdout",
     "output_type": "stream",
     "text": [
      "/tmp/inovacao/proj\n"
     ]
    }
   ],
   "source": [
    "mkdir -p /tmp/inovacao/proj\n",
    "cd /tmp/inovacao/proj\n",
    "echo $PWD"
   ]
  },
  {
   "cell_type": "markdown",
   "metadata": {},
   "source": [
    "2. Baixar os projetos do repositório Git"
   ]
  },
  {
   "cell_type": "code",
   "execution_count": 3,
   "metadata": {
    "tags": []
   },
   "outputs": [
    {
     "name": "stdout",
     "output_type": "stream",
     "text": [
      "Cloning into 'front-app'...\n",
      "remote: Enumerating objects: 48, done.        \n",
      "remote: Counting objects: 100% (48/48), done.        \n",
      "remote: Compressing objects: 100% (41/41), done.        \n",
      "remote: Total 48 (delta 3), reused 48 (delta 3), pack-reused 0        \n",
      "Unpacking objects: 100% (48/48), 458.56 KiB | 576.00 KiB/s, done.\n",
      "Cloning into 'back-app'...\n",
      "remote: Enumerating objects: 36, done.        \n",
      "remote: Counting objects: 100% (36/36), done.        \n",
      "remote: Compressing objects: 100% (32/32), done.        \n",
      "remote: Total 36 (delta 0), reused 36 (delta 0), pack-reused 0        \n",
      "Unpacking objects: 100% (36/36), 455.74 KiB | 221.00 KiB/s, done.\n",
      "Cloning into 'cert-app'...\n",
      "remote: Enumerating objects: 68, done.        \n",
      "remote: Counting objects: 100% (68/68), done.        \n",
      "remote: Compressing objects: 100% (50/50), done.        \n",
      "remote: Total 68 (delta 15), reused 65 (delta 12), pack-reused 0        \n",
      "Unpacking objects: 100% (68/68), 459.96 KiB | 493.00 KiB/s, done.\n"
     ]
    }
   ],
   "source": [
    "#wget https://github.com/kdop-dev/front-app/archive/master.zip \n",
    "#unzip master.zip && mv front-app-master front-app && rm master.zip\n",
    "git clone https://github.com/kdop-dev/front-app.git\n",
    "#wget https://github.com/kdop-dev/back-app/archive/master.zip \n",
    "#unzip master.zip && mv back-app-master back-app && rm master.zip \n",
    "git clone https://github.com/kdop-dev/back-app.git\n",
    "#wget https://github.com/kdop-dev/cert-app/archive/master.zip \n",
    "#unzip master.zip && mv cert-app-master cert-app && rm master.zip\n",
    "git clone https://github.com/kdop-dev/cert-app.git"
   ]
  },
  {
   "cell_type": "markdown",
   "metadata": {},
   "source": [
    "## Preparando a Imagem\n",
    "\n",
    "Dentro de cada projeto, temos basicamente a estrutura de pastas abaixo. \n",
    "```\n",
    "front-app/\n",
    "├── front-app/    \n",
    "│   ├── app/ \n",
    "│   ├── Dockerfile\n",
    "│   └── requirements.txt\n",
    "└── helm/\n",
    "    └── front-app/\n",
    "        ├── templates/\n",
    "        ├── Chart.yaml\n",
    "        └── values.yaml\n",
    "```\n",
    "\n",
    "Para a geração da imagem, vamos utilizar o arquivo [Dockerfile](https://github.com/kdop-dev/front-app/blob/master/front-app/Dockerfile)\n",
    "\n",
    "1. Gerando a imagem"
   ]
  },
  {
   "cell_type": "code",
   "execution_count": null,
   "metadata": {
    "scrolled": true,
    "tags": []
   },
   "outputs": [],
   "source": [
    "sudo docker build -H tcp://192.168.68.100:2375 -t kdop/front-app:0.0.1 front-app/front-app\n",
    "#sudo docker build -t kdop/back-app:0.0.1 back-app/back-app\n",
    "#sudo docker build -t kdop/cert-app:0.0.3 cert-app/cert-app"
   ]
  },
  {
   "cell_type": "markdown",
   "metadata": {},
   "source": [
    "2. Subindo a imagem para o Repositório [DockerHub](https://hub.docker.com/)\n",
    "\n",
    "    Após a geração das imagens, elas ficarão disponíveis localmente. Para nosso cluster k8s ter acesso as imagens, será necessário disponibilizá-las em algum repositório."
   ]
  },
  {
   "cell_type": "code",
   "execution_count": null,
   "metadata": {
    "tags": []
   },
   "outputs": [],
   "source": [
    "sudo docker push kdop/front-app:0.0.1\n",
    "sudo docker push kdop/back-app:0.0.1\n",
    "sudo docker push kdop/cert-app:0.0.3"
   ]
  },
  {
   "cell_type": "markdown",
   "metadata": {},
   "source": [
    "3. Excluindo Imagem local\n",
    "\n",
    "    Após subir a imagem para o repositório, podemos excluí-las.\n",
    "\n",
    "    3.1 Consular as imagens local"
   ]
  },
  {
   "cell_type": "code",
   "execution_count": null,
   "metadata": {
    "tags": []
   },
   "outputs": [],
   "source": [
    "sudo docker images"
   ]
  },
  {
   "cell_type": "markdown",
   "metadata": {},
   "source": [
    "    3.2 Excluir imagem"
   ]
  },
  {
   "cell_type": "code",
   "execution_count": null,
   "metadata": {},
   "outputs": [],
   "source": [
    "sudo docker rmi d83671653f58 add66695d5c2 f2eb0b5bd550 -f"
   ]
  },
  {
   "cell_type": "markdown",
   "metadata": {},
   "source": [
    "[<img align=\"right\" src=\"media/avancar.png\" width=\"100\"/>](02_Kubernetes.ipynb)\n"
   ]
  }
 ],
 "metadata": {
  "kernelspec": {
   "display_name": "Bash",
   "language": "bash",
   "name": "bash"
  },
  "language_info": {
   "codemirror_mode": "shell",
   "file_extension": ".sh",
   "mimetype": "text/x-sh",
   "name": "bash"
  }
 },
 "nbformat": 4,
 "nbformat_minor": 4
}
