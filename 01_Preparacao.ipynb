{
 "cells": [
  {
   "cell_type": "markdown",
   "metadata": {},
   "source": [
    "# O Projeto\n",
    "\n",
    "Para este treinamento, iremos utilizar 3 aplicações desenvolvidas em python. \n",
    "* [front-app](https://github.com/kdop-dev/front-app)\n",
    "* [back-app](https://github.com/kdop-dev/back-app)\n",
    "* [cert-app](https://github.com/kdop-dev/cert-app)\n",
    "\n",
    "O front-app possui integração com o back-app e o cert-app.\n",
    "\n",
    "```\n",
    "╭───────────╮      ╭──────────╮\n",
    "│ front-app ├──────┤ back-app │ \n",
    "╰─────┬─────╯      ╰──────────╯\n",
    "      │            ╭──────────╮\n",
    "      ╰────────────┤ cert-app │ \n",
    "                   ╰──────────╯ \n",
    "```\n",
    "\n",
    "## Baixando o Projeto\n",
    "\n",
    "1. Criar o diretório para baixar os projetos do repositório"
   ]
  },
  {
   "cell_type": "code",
   "execution_count": 1,
   "metadata": {},
   "outputs": [
    {
     "name": "stdout",
     "output_type": "stream",
     "text": [
      "git version 2.25.1\n"
     ]
    }
   ],
   "source": [
    "git version"
   ]
  },
  {
   "cell_type": "code",
   "execution_count": 2,
   "metadata": {},
   "outputs": [
    {
     "name": "stdout",
     "output_type": "stream",
     "text": [
      "/home/jovyan/work/inovacao\n"
     ]
    }
   ],
   "source": [
    "mkdir -p work/inovacao\n",
    "cd work/inovacao\n",
    "echo $PWD"
   ]
  },
  {
   "cell_type": "markdown",
   "metadata": {},
   "source": [
    "2. Baixar os projetos do repositório Git"
   ]
  },
  {
   "cell_type": "code",
   "execution_count": 3,
   "metadata": {
    "tags": []
   },
   "outputs": [
    {
     "name": "stdout",
     "output_type": "stream",
     "text": [
      "Cloning into 'front-app'...\n",
      "remote: Enumerating objects: 81, done.        \n",
      "remote: Counting objects: 100% (81/81), done.        \n",
      "remote: Compressing objects: 100% (57/57), done.        \n",
      "remote: Total 81 (delta 25), reused 76 (delta 20), pack-reused 0        \n",
      "Unpacking objects: 100% (81/81), 461.25 KiB | 180.00 KiB/s, done.\n",
      "Cloning into 'back-app'...\n",
      "remote: Enumerating objects: 39, done.        \n",
      "remote: Counting objects: 100% (39/39), done.        \n",
      "remote: Compressing objects: 100% (33/33), done.        \n",
      "remote: Total 39 (delta 2), reused 39 (delta 2), pack-reused 0        \n",
      "Unpacking objects: 100% (39/39), 456.03 KiB | 229.00 KiB/s, done.\n",
      "Cloning into 'cert-app'...\n",
      "remote: Enumerating objects: 82, done.        \n",
      "remote: Counting objects: 100% (82/82), done.        \n",
      "remote: Compressing objects: 100% (57/57), done.        \n",
      "remote: Total 82 (delta 26), reused 75 (delta 19), pack-reused 0        \n",
      "Unpacking objects: 100% (82/82), 461.29 KiB | 256.00 KiB/s, done.\n"
     ]
    }
   ],
   "source": [
    "git clone https://github.com/kdop-dev/front-app.git\n",
    "git clone https://github.com/kdop-dev/back-app.git\n",
    "git clone https://github.com/kdop-dev/cert-app.git"
   ]
  },
  {
   "cell_type": "markdown",
   "metadata": {},
   "source": [
    "## Preparando a Imagem\n",
    "\n",
    "Dentro de cada projeto, temos basicamente a estrutura de pastas abaixo. \n",
    "\n",
    "```\n",
    "front-app/\n",
    "├── front-app/    \n",
    "│   ├── app/ \n",
    "│   ├── Dockerfile\n",
    "│   └── requirements.txt\n",
    "└── helm/\n",
    "    └── front-app/\n",
    "        ├── templates/\n",
    "        ├── Chart.yaml\n",
    "        └── values.yaml\n",
    "```\n",
    "\n",
    "Para a geração da imagem, vamos utilizar o arquivo [Dockerfile](https://github.com/kdop-dev/front-app/blob/master/front-app/Dockerfile)\n",
    "\n",
    "1. Gerando a imagem"
   ]
  },
  {
   "cell_type": "code",
   "execution_count": 5,
   "metadata": {
    "scrolled": true,
    "tags": []
   },
   "outputs": [
    {
     "name": "stdout",
     "output_type": "stream",
     "text": [
      "Sending build context to Docker daemon 623.6 kB\n",
      "Step 1/10 : FROM python:3-alpine\n",
      "3-alpine: Pulling from library/python\n",
      "\n",
      "\u001b[1Bfa9351a1: Already exists \n",
      "\u001b[1Badc4ff6f: Already exists \n",
      "\u001b[1Bf1bb9eba: Already exists \n",
      "\u001b[1B8f72d6a9: Already exists \n",
      "\u001b[1BDigest: sha256:cbc08bfc4b1b732076742f52852ede090e960ab7470d0a60ee4f964cfa7c710a\n",
      "Status: Downloaded newer image for python:3-alpine\n",
      " ---> 0f03316d4a27\n",
      "Step 2/10 : RUN apk add --virtual .build-dependencies             --no-cache             python3-dev             build-base             linux-headers             pcre-dev\n",
      " ---> Running in 53bbc174f0cf\n",
      "fetch http://dl-cdn.alpinelinux.org/alpine/v3.12/main/x86_64/APKINDEX.tar.gz\n",
      "fetch http://dl-cdn.alpinelinux.org/alpine/v3.12/community/x86_64/APKINDEX.tar.gz\n",
      "(1/30) Installing pkgconf (1.7.2-r0)\n",
      "(2/30) Installing python3 (3.8.5-r0)\n",
      "(3/30) Installing python3-dev (3.8.5-r0)\n",
      "(4/30) Installing libgcc (9.3.0-r2)\n",
      "(5/30) Installing libstdc++ (9.3.0-r2)\n",
      "(6/30) Installing binutils (2.34-r1)\n",
      "(7/30) Installing libmagic (5.38-r0)\n",
      "(8/30) Installing file (5.38-r0)\n",
      "(9/30) Installing gmp (6.2.0-r0)\n",
      "(10/30) Installing isl (0.18-r0)\n",
      "(11/30) Installing libgomp (9.3.0-r2)\n",
      "(12/30) Installing libatomic (9.3.0-r2)\n",
      "(13/30) Installing libgphobos (9.3.0-r2)\n",
      "(14/30) Installing mpfr4 (4.0.2-r4)\n",
      "(15/30) Installing mpc1 (1.1.0-r1)\n",
      "(16/30) Installing gcc (9.3.0-r2)\n",
      "(17/30) Installing musl-dev (1.1.24-r9)\n",
      "(18/30) Installing libc-dev (0.7.2-r3)\n",
      "(19/30) Installing g++ (9.3.0-r2)\n",
      "(20/30) Installing make (4.3-r0)\n",
      "(21/30) Installing fortify-headers (1.1-r0)\n",
      "(22/30) Installing patch (2.7.6-r6)\n",
      "(23/30) Installing build-base (0.5-r2)\n",
      "(24/30) Installing linux-headers (5.4.5-r1)\n",
      "(25/30) Installing libpcre16 (8.44-r0)\n",
      "(26/30) Installing libpcre32 (8.44-r0)\n",
      "(27/30) Installing pcre (8.44-r0)\n",
      "(28/30) Installing libpcrecpp (8.44-r0)\n",
      "(29/30) Installing pcre-dev (8.44-r0)\n",
      "(30/30) Installing .build-dependencies (20200916.220430)\n",
      "Executing busybox-1.31.1-r16.trigger\n",
      "OK: 312 MiB in 65 packages\n",
      "Removing intermediate container 53bbc174f0cf\n",
      " ---> 64af175489d2\n",
      "Step 3/10 : RUN apk add --no-cache pcre\n",
      " ---> Running in 1592edf755c0\n",
      "fetch http://dl-cdn.alpinelinux.org/alpine/v3.12/main/x86_64/APKINDEX.tar.gz\n",
      "fetch http://dl-cdn.alpinelinux.org/alpine/v3.12/community/x86_64/APKINDEX.tar.gz\n",
      "OK: 312 MiB in 65 packages\n",
      "Removing intermediate container 1592edf755c0\n",
      " ---> 125c356ef7e4\n",
      "Step 4/10 : WORKDIR /app\n",
      " ---> Running in 748feef881f2\n",
      "Removing intermediate container 748feef881f2\n",
      " ---> 764f90e3008b\n",
      "Step 5/10 : COPY ./app /app\n",
      " ---> 0105f2a3ceaa\n",
      "Step 6/10 : COPY ./requirements.txt /app\n",
      " ---> 0ec31c09a96e\n",
      "Step 7/10 : RUN pip install -r /app/requirements.txt\n",
      " ---> Running in 89d2ccd6f045\n",
      "Collecting flask\n",
      "  Downloading Flask-1.1.2-py2.py3-none-any.whl (94 kB)\n",
      "Collecting uwsgi\n",
      "  Downloading uWSGI-2.0.19.1.tar.gz (803 kB)\n",
      "Collecting itsdangerous>=0.24\n",
      "  Downloading itsdangerous-1.1.0-py2.py3-none-any.whl (16 kB)\n",
      "Collecting Jinja2>=2.10.1\n",
      "  Downloading Jinja2-2.11.2-py2.py3-none-any.whl (125 kB)\n",
      "Collecting click>=5.1\n",
      "  Downloading click-7.1.2-py2.py3-none-any.whl (82 kB)\n",
      "Collecting Werkzeug>=0.15\n",
      "  Downloading Werkzeug-1.0.1-py2.py3-none-any.whl (298 kB)\n",
      "Collecting MarkupSafe>=0.23\n",
      "  Downloading MarkupSafe-1.1.1.tar.gz (19 kB)\n",
      "Building wheels for collected packages: uwsgi, MarkupSafe\n",
      "  Building wheel for uwsgi (setup.py): started\n",
      "  Building wheel for uwsgi (setup.py): finished with status 'done'\n",
      "  Created wheel for uwsgi: filename=uWSGI-2.0.19.1-cp38-cp38-linux_x86_64.whl size=556787 sha256=95e0bd34d5746c11564a3607e5b1c1a7c2c061519bef5e35caa5a583c35a01c3\n",
      "  Stored in directory: /root/.cache/pip/wheels/87/01/0f/2fc9c74a1ae010de7d8b17d90f6b39595cbb8ac5169345fcb8\n",
      "  Building wheel for MarkupSafe (setup.py): started\n",
      "  Building wheel for MarkupSafe (setup.py): finished with status 'done'\n",
      "  Created wheel for MarkupSafe: filename=MarkupSafe-1.1.1-cp38-cp38-linux_x86_64.whl size=17698 sha256=b65fbfc22388f17cdd67a23ae926b2537a0e00100e3753b056c252793bbcc85e\n",
      "  Stored in directory: /root/.cache/pip/wheels/0c/61/d6/4db4f4c28254856e82305fdb1f752ed7f8482e54c384d8cb0e\n",
      "Successfully built uwsgi MarkupSafe\n",
      "Installing collected packages: itsdangerous, MarkupSafe, Jinja2, click, Werkzeug, flask, uwsgi\n",
      "Successfully installed Jinja2-2.11.2 MarkupSafe-1.1.1 Werkzeug-1.0.1 click-7.1.2 flask-1.1.2 itsdangerous-1.1.0 uwsgi-2.0.19.1\n",
      "Removing intermediate container 89d2ccd6f045\n",
      " ---> b9d2272a5ea2\n",
      "Step 8/10 : RUN apk del .build-dependencies && rm -rf /var/cache/apk/*\n",
      " ---> Running in d9c6a4ebd400\n",
      "\u001b[91mWARNING: Ignoring APKINDEX.2c4ac24e.tar.gz: No such file or directory\n",
      "WARNING: Ignoring APKINDEX.40a3604f.tar.gz: No such file or directory\n",
      "\u001b[0m(1/29) Purging .build-dependencies (20200916.220430)\n",
      "(2/29) Purging python3-dev (3.8.5-r0)\n",
      "(3/29) Purging python3 (3.8.5-r0)\n",
      "(4/29) Purging build-base (0.5-r2)\n",
      "(5/29) Purging file (5.38-r0)\n",
      "(6/29) Purging g++ (9.3.0-r2)\n",
      "(7/29) Purging gcc (9.3.0-r2)\n",
      "(8/29) Purging binutils (2.34-r1)\n",
      "(9/29) Purging libatomic (9.3.0-r2)\n",
      "(10/29) Purging libgomp (9.3.0-r2)\n",
      "(11/29) Purging libgphobos (9.3.0-r2)\n",
      "(12/29) Purging make (4.3-r0)\n",
      "(13/29) Purging libc-dev (0.7.2-r3)\n",
      "(14/29) Purging musl-dev (1.1.24-r9)\n",
      "(15/29) Purging fortify-headers (1.1-r0)\n",
      "(16/29) Purging patch (2.7.6-r6)\n",
      "(17/29) Purging linux-headers (5.4.5-r1)\n",
      "(18/29) Purging pcre-dev (8.44-r0)\n",
      "(19/29) Purging libpcre16 (8.44-r0)\n",
      "(20/29) Purging libpcre32 (8.44-r0)\n",
      "(21/29) Purging libpcrecpp (8.44-r0)\n",
      "(22/29) Purging pkgconf (1.7.2-r0)\n",
      "(23/29) Purging libstdc++ (9.3.0-r2)\n",
      "(24/29) Purging libgcc (9.3.0-r2)\n",
      "(25/29) Purging libmagic (5.38-r0)\n",
      "(26/29) Purging isl (0.18-r0)\n",
      "(27/29) Purging mpc1 (1.1.0-r1)\n",
      "(28/29) Purging mpfr4 (4.0.2-r4)\n",
      "(29/29) Purging gmp (6.2.0-r0)\n",
      "Executing busybox-1.31.1-r16.trigger\n",
      "OK: 12 MiB in 36 packages\n",
      "Removing intermediate container d9c6a4ebd400\n",
      " ---> 12f7ef93fa13\n",
      "Step 9/10 : EXPOSE 5000\n",
      " ---> Running in 9a4ebf265c59\n",
      "Removing intermediate container 9a4ebf265c59\n",
      " ---> 7fb673c0ebe6\n",
      "Step 10/10 : CMD [\"uwsgi\", \"--ini\", \"/app/wsgi.ini\"]\n",
      " ---> Running in 068f4e4839dc\n",
      "Removing intermediate container 068f4e4839dc\n",
      " ---> 8768e6433be9\n",
      "Successfully built 8768e6433be9\n",
      "Successfully tagged kdop/back-app:0.0.2\n"
     ]
    }
   ],
   "source": [
    "export DOCKER_HOST=tcp://192.168.68.100:2375\n",
    "#docker build -H tcp://192.168.68.100:2375 -t kdop/front-app:0.0.1 front-app/front-app\n",
    "docker build -t kdop/back-app:0.0.2 back-app/back-app\n",
    "#docker build -t kdop/cert-app:0.0.3 cert-app/cert-app"
   ]
  },
  {
   "cell_type": "markdown",
   "metadata": {},
   "source": [
    "2. Subindo a imagem para o Repositório [DockerHub](https://hub.docker.com/)\n",
    "\n",
    "    Após a geração das imagens, elas ficarão disponíveis localmente. Para nosso cluster k8s ter acesso as imagens, será necessário disponibilizá-las em algum repositório."
   ]
  },
  {
   "cell_type": "code",
   "execution_count": 8,
   "metadata": {
    "tags": []
   },
   "outputs": [
    {
     "name": "stdout",
     "output_type": "stream",
     "text": [
      "Login Succeeded\n",
      "The push refers to repository [docker.io/kdop/back-app]\n",
      "\n",
      "\u001b[1Bcf7d9e15: Preparing \n",
      "\u001b[1B5ded86d4: Preparing \n",
      "\u001b[1B6ba11f80: Preparing \n",
      "\u001b[1B4b2b0ae9: Preparing \n",
      "\u001b[1B1e61eb5a: Preparing \n",
      "\u001b[1B78568860: Preparing \n",
      "\u001b[1Bc40d434d: Preparing \n",
      "\u001b[1Bdcd1b96f: Preparing \n",
      "\u001b[1B8b3268b4: Preparing \n",
      "\u001b[1Be7b1c68f: Preparing \n",
      "\u001b[1B53c5e3b2: Preparing \n",
      "\u001b[6Bc40d434d: Pushing 277.7 MB/301.7 MB\n"
     ]
    }
   ],
   "source": [
    "docker push kdop/front-app:0.0.4\n",
    "docker push kdop/back-app:0.0.2\n",
    "docker push kdop/cert-app:0.0.3"
   ]
  },
  {
   "cell_type": "markdown",
   "metadata": {},
   "source": [
    "3. Excluindo Imagem local\n",
    "\n",
    "    Após subir a imagem para o repositório, podemos excluí-las.\n",
    "\n",
    "    3.1 Consular as imagens local"
   ]
  },
  {
   "cell_type": "code",
   "execution_count": 10,
   "metadata": {
    "tags": []
   },
   "outputs": [
    {
     "name": "stdout",
     "output_type": "stream",
     "text": [
      "REPOSITORY                                                      TAG                                        IMAGE ID            CREATED             SIZE\n",
      "kdop/back-app                                                   0.0.2                                      8768e6433be9        4 minutes ago       359 MB\n",
      "kdop/cert-app                                                   0.0.4                                      f234d94045e3        24 hours ago        360 MB\n",
      "kdop/front-app                                                  <none>                                     f234d94045e3        24 hours ago        360 MB\n",
      "kdop/front-app                                                  <none>                                     242dda2a9ff0        24 hours ago        360 MB\n",
      "kdop/front-app                                                  0.0.3                                      d11f6ac8db6c        24 hours ago        365 MB\n",
      "kdop/front-app                                                  0.0.4                                      d11f6ac8db6c        24 hours ago        365 MB\n",
      "kdop/front-app                                                  <none>                                     89a7b4957911        25 hours ago        365 MB\n",
      "<none>                                                          <none>                                     091031ef3b5c        25 hours ago        365 MB\n",
      "kdop/front-app                                                  0.0.2                                      e481584908d2        25 hours ago        365 MB\n",
      "kdop/front-app                                                  <none>                                     2b19be1376cd        26 hours ago        365 MB\n",
      "kdop/cert-app                                                   0.0.3                                      afa2ba979584        28 hours ago        360 MB\n",
      "kdop/back-app                                                   0.0.1                                      1323e452d18b        28 hours ago        359 MB\n",
      "kdop/front-app                                                  0.0.1                                      03be4872e254        28 hours ago        365 MB\n",
      "kdop/learn-kdop                                                 test                                       e9ab7ab6253b        28 hours ago        2.73 GB\n",
      "kdop/learn-kdop-2ddev-2dpilula-2dinovacao-2dkubernetes-731f2f   3ba97a20d8e203c42219f6160f8799582df557a6   d54af688cbf9        2 days ago          3.36 GB\n",
      "python                                                          3-alpine                                   0f03316d4a27        8 days ago          42.7 MB\n",
      "bobrik/socat                                                    latest                                     e617a56c238e        5 years ago         6.95 MB\n"
     ]
    }
   ],
   "source": [
    "docker images"
   ]
  },
  {
   "cell_type": "markdown",
   "metadata": {},
   "source": [
    "    3.2 Excluir imagem"
   ]
  },
  {
   "cell_type": "code",
   "execution_count": null,
   "metadata": {},
   "outputs": [],
   "source": [
    "docker rmi d83671653f58 add66695d5c2 f2eb0b5bd550 -f"
   ]
  },
  {
   "cell_type": "markdown",
   "metadata": {},
   "source": [
    "## Limpando o seu ambiente de docker\n",
    "\n",
    "Execute em um terminal ou use -f para forçar a execução e não solicitar sim para continuar."
   ]
  },
  {
   "cell_type": "code",
   "execution_count": 15,
   "metadata": {},
   "outputs": [
    {
     "name": "stdout",
     "output_type": "stream",
     "text": [
      "Total reclaimed space: 0 B\n",
      "Total reclaimed space: 0 B\n",
      "Total reclaimed space: 0 B\n",
      "Total reclaimed space: 0 B\n"
     ]
    }
   ],
   "source": [
    "docker container prune -f\n",
    "docker image prune -f\n",
    "docker volume prune -f\n",
    "docker system prune -f"
   ]
  },
  {
   "cell_type": "markdown",
   "metadata": {},
   "source": [
    "[<img align=\"right\" src=\"media/avancar.png\" width=\"100\"/>](02_Kubernetes.ipynb)\n"
   ]
  }
 ],
 "metadata": {
  "kernelspec": {
   "display_name": "Bash",
   "language": "bash",
   "name": "bash"
  },
  "language_info": {
   "codemirror_mode": "shell",
   "file_extension": ".sh",
   "mimetype": "text/x-sh",
   "name": "bash"
  }
 },
 "nbformat": 4,
 "nbformat_minor": 4
}
