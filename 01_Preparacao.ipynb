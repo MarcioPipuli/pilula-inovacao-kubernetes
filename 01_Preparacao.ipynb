{
 "cells": [
  {
   "cell_type": "markdown",
   "metadata": {},
   "source": [
    "# O Projeto\n",
    "\n",
    "Para este treinamento, iremos utilizar 3 aplicações desenvolvidas em python. \n",
    "* [front-app](https://github.com/kdop-dev/front-app)\n",
    "* [back-app](https://github.com/kdop-dev/back-app)\n",
    "* [cert-app](https://github.com/kdop-dev/cert-app)\n",
    "\n",
    "O front-app possui integração com o back-app e o cert-app.\n",
    "\n",
    "```\n",
    "╭───────────╮      ╭──────────╮\n",
    "│ front-app ├──────┤ back-app │ \n",
    "╰─────┬─────╯      ╰──────────╯\n",
    "      │            ╭──────────╮\n",
    "      ╰────────────┤ cert-app │ \n",
    "                   ╰──────────╯ \n",
    "```\n",
    "\n",
    "## Baixando o Projeto\n",
    "\n",
    "1. Criar o diretório para baixar os projetos do repositório"
   ]
  },
  {
   "cell_type": "code",
   "execution_count": null,
   "metadata": {},
   "outputs": [],
   "source": [
    "git version"
   ]
  },
  {
   "cell_type": "code",
   "execution_count": null,
   "metadata": {},
   "outputs": [],
   "source": [
    "export KUBECONFIG=~/kubeconfig\n",
    "export myNamespace=<seu namespace>\n",
    "mkdir -p ~/work/inovacao\n",
    "cd ~/work/inovacao\n",
    "echo $PWD"
   ]
  },
  {
   "cell_type": "markdown",
   "metadata": {},
   "source": [
    "2. Baixar os projetos do repositório Git"
   ]
  },
  {
   "cell_type": "code",
   "execution_count": null,
   "metadata": {
    "tags": []
   },
   "outputs": [],
   "source": [
    "git clone https://github.com/kdop-dev/front-app.git\n",
    "git clone https://github.com/kdop-dev/back-app.git\n",
    "git clone https://github.com/kdop-dev/cert-app.git"
   ]
  },
  {
   "cell_type": "code",
   "execution_count": null,
   "metadata": {},
   "outputs": [],
   "source": [
    "# Altera o namespace nos arquivos value.yaml\n",
    "sed -i -e  \"s/adsantos/$myNamespace/g\" front-app/helm/front-app/values.yaml\n",
    "sed -i -e  \"s/adsantos/$myNamespace/g\" cert-app/helm/cert-app/values.yaml"
   ]
  },
  {
   "cell_type": "markdown",
   "metadata": {},
   "source": [
    "## Preparando a Imagem\n",
    "\n",
    "Dentro de cada projeto, temos basicamente a estrutura de pastas abaixo. \n",
    "\n",
    "```\n",
    "front-app/\n",
    "├── front-app/    \n",
    "│   ├── app/ \n",
    "│   ├── Dockerfile\n",
    "│   └── requirements.txt\n",
    "└── helm/\n",
    "    └── front-app/\n",
    "        ├── templates/\n",
    "        ├── Chart.yaml\n",
    "        └── values.yaml\n",
    "```\n",
    "\n",
    "Para a geração da imagem, vamos utilizar o arquivo [Dockerfile](https://github.com/kdop-dev/front-app/blob/master/front-app/Dockerfile)\n",
    "\n",
    "1. Gerando a imagem"
   ]
  },
  {
   "cell_type": "code",
   "execution_count": null,
   "metadata": {
    "scrolled": true,
    "tags": []
   },
   "outputs": [],
   "source": [
    "# Você precisa de um servidor de docker remoto\n",
    "# no mac os e linux (inclue wsl) você pode executar: \n",
    "# docker run --rm -d -v /var/run/docker.sock:/var/run/docker.sock --name socat -p 2375:2375 bobrik/socat TCP-LISTEN:2375,fork UNIX-CONNECT:/var/run/docker.sock\n",
    "# e usar: export DOCKER_HOST=tcp://IP-MY-MACHINE:2375\n",
    "export DOCKER_HOST=tcp://192.168.68.100:2375\n",
    "docker build -t kdop/front-app:0.0.3 front-app/front-app\n",
    "docker build -t kdop/back-app:0.0.2 back-app/back-app\n",
    "docker build -t kdop/cert-app:0.0.4 cert-app/cert-app"
   ]
  },
  {
   "cell_type": "markdown",
   "metadata": {},
   "source": [
    "2. Subindo a imagem para o Repositório [DockerHub](https://hub.docker.com/)\n",
    "\n",
    "    Após a geração das imagens, elas ficarão disponíveis localmente. Para nosso cluster k8s ter acesso as imagens, será necessário disponibilizá-las em algum repositório."
   ]
  },
  {
   "cell_type": "code",
   "execution_count": null,
   "metadata": {
    "tags": []
   },
   "outputs": [],
   "source": [
    "docker push kdop/front-app:0.0.4\n",
    "docker push kdop/back-app:0.0.2\n",
    "docker push kdop/cert-app:0.0.4"
   ]
  },
  {
   "cell_type": "markdown",
   "metadata": {},
   "source": [
    "3. Excluindo Imagem local\n",
    "\n",
    "    Após subir a imagem para o repositório, podemos excluí-las.\n",
    "\n",
    "    3.1 Consular as imagens local"
   ]
  },
  {
   "cell_type": "code",
   "execution_count": null,
   "metadata": {
    "tags": []
   },
   "outputs": [],
   "source": [
    "docker images"
   ]
  },
  {
   "cell_type": "markdown",
   "metadata": {},
   "source": [
    "    3.2 Excluir imagem"
   ]
  },
  {
   "cell_type": "code",
   "execution_count": null,
   "metadata": {},
   "outputs": [],
   "source": [
    "docker rmi d83671653f58 add66695d5c2 f2eb0b5bd550 -f\n",
    "\n",
    "# Apaga as imagens que coincidem com o filtro\n",
    "docker rmi $(docker images -q --filter=reference='kdop/*:0.0.1')"
   ]
  },
  {
   "cell_type": "markdown",
   "metadata": {},
   "source": [
    "## Limpando o seu ambiente de docker\n",
    "\n",
    "Execute em um terminal ou use -f para forçar a execução e não solicitar sim para continuar."
   ]
  },
  {
   "cell_type": "code",
   "execution_count": null,
   "metadata": {},
   "outputs": [],
   "source": [
    "docker container prune -f\n",
    "docker image prune -f\n",
    "docker volume prune -f\n",
    "docker system prune -f"
   ]
  },
  {
   "cell_type": "markdown",
   "metadata": {},
   "source": [
    "[<img align=\"right\" src=\"media/avancar.png\" width=\"100\"/>](02_Kubernetes.ipynb)\n"
   ]
  }
 ],
 "metadata": {
  "kernelspec": {
   "display_name": "Bash",
   "language": "bash",
   "name": "bash"
  },
  "language_info": {
   "codemirror_mode": "shell",
   "file_extension": ".sh",
   "mimetype": "text/x-sh",
   "name": "bash"
  }
 },
 "nbformat": 4,
 "nbformat_minor": 4
}