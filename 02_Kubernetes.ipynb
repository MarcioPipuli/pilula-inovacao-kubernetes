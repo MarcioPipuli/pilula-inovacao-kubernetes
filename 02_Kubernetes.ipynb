{
 "cells": [
  {
   "cell_type": "markdown",
   "metadata": {},
   "source": [
    "# [Kubernetes](https://kubernetes.io/pt/)\n",
    "\n",
    "Kubernetes (K8s) é um produto Open Source utilizado para automatizar a implantação, o dimensionamento e o gerenciamento de aplicativos em contêiner.\n",
    "\n",
    "## Overview\n",
    "\n",
    "\n",
    "**Master**  \n",
    "Gerencia a alocação dos recursos no cluster.\n",
    "\n",
    "[**Nodes**](https://kubernetes.io/docs/concepts/architecture/nodes/)  \n",
    "Executa os contêineres gerenciados pelo Cluster K8s.   \n",
    "O Kubernetes executa sua carga de trabalho colocando contêineres em pods para serem executados em nós(Node). \n",
    "\n",
    "[**Namespace (ns)**](https://kubernetes.io/docs/concepts/overview/working-with-objects/namespaces/)  \n",
    "São clusters virtuais. Os namespaces são uma forma de dividir os recursos do cluster.\n",
    "Alguns exemplos de utilização: ambiente (DEV, HOM, PROD), produto, aplicação, time, ...\n",
    "Os recursos do kubernetes são criados no namespace kube-system.  \n",
    "\n",
    "[**Deployment (deploy)**](https://kubernetes.io/docs/concepts/workloads/controllers/deployment/)  \n",
    "Descreve o estado desejado do POD. \n",
    "\n",
    "[**ReplicaSet**](https://kubernetes.io/docs/concepts/workloads/controllers/replicaset/)  \n",
    "Recurso responsável por monitorar e manter os PODs em execução. Ele garante que o número específico de réplicas de PODs sejam executadas ao mesmo tempo.\n",
    "Caso um POD seja deletado, o ReplicaSet irá criar um novo de acordo com o estado desejado.\n",
    "\n",
    "[**POD**](https://kubernetes.io/docs/concepts/workloads/pods/)  \n",
    "Representa um conjunto de contêiners em execução no Cluster.\n",
    "\n",
    "[**Services (svc)**](https://kubernetes.io/docs/concepts/services-networking/service/)  \n",
    "Uma maneira abstrata de expor uma aplicação em execução em um conjunto de Pods como um serviço de rede.  \n",
    "Tipos de Serviço:\n",
    "* **ClusterIP** (Padrão): Expõe o serviço em um IP interno do cluster. A escolha desse valor torna o serviço acessível apenas de dentro do cluster.\n",
    "* **NodePort**: Cria uma porta estática exponto o serviço pelos nodes. O serviço fica acessível via \\<Node IP>:\\<Node Port>\n",
    "* **LoadBalancer**: Expõe o serviço externamente usando o balanceador de carga de um **provedor de nuvem**. \n",
    "* **ExternalName**: Mapeia o serviço para o conteúdo do campo externalName (por exemplo foo.bar.example.com).\n",
    "\n",
    "Você também pode usar o Ingress para expor seu serviço. Ingress não é um tipo de serviço, mas atua como o ponto de entrada para seu cluster. Ele permite que você consolide suas regras de roteamento em um único recurso, pois pode expor vários serviços no mesmo endereço IP.   \n"
   ]
  },
  {
   "cell_type": "markdown",
   "metadata": {},
   "source": [
    "## Preparando o Acesso ao Ambiente    "
   ]
  },
  {
   "cell_type": "code",
   "execution_count": null,
   "metadata": {},
   "outputs": [],
   "source": [
    "export KUBECONFIG=$PWD/kubeconfig"
   ]
  },
  {
   "cell_type": "markdown",
   "metadata": {},
   "source": [
    "## Consultando nosso Cluster\n",
    "\n",
    "1. Consultando a Versão"
   ]
  },
  {
   "cell_type": "code",
   "execution_count": null,
   "metadata": {},
   "outputs": [],
   "source": [
    "kubectl version"
   ]
  },
  {
   "cell_type": "markdown",
   "metadata": {},
   "source": [
    "2. Consultando as informações do Cluster"
   ]
  },
  {
   "cell_type": "code",
   "execution_count": null,
   "metadata": {
    "tags": []
   },
   "outputs": [],
   "source": [
    "kubectl cluster-info"
   ]
  },
  {
   "cell_type": "markdown",
   "metadata": {},
   "source": [
    "3. Listando os nós do cluster"
   ]
  },
  {
   "cell_type": "code",
   "execution_count": null,
   "metadata": {},
   "outputs": [],
   "source": [
    "kubectl get nodes"
   ]
  },
  {
   "cell_type": "markdown",
   "metadata": {},
   "source": [
    "4. Verificando detalhes do node\n",
    "\n",
    "    Informe o nome do node exibido no passo anterior e execute o comando."
   ]
  },
  {
   "cell_type": "code",
   "execution_count": null,
   "metadata": {},
   "outputs": [],
   "source": [
    "kubectl describe node <insert-node-name-here>"
   ]
  },
  {
   "cell_type": "markdown",
   "metadata": {},
   "source": [
    "5. Verificando Processamento do Node"
   ]
  },
  {
   "cell_type": "code",
   "execution_count": null,
   "metadata": {},
   "outputs": [],
   "source": [
    "kubectl top nodes"
   ]
  },
  {
   "cell_type": "markdown",
   "metadata": {},
   "source": [
    "## Namespaces"
   ]
  },
  {
   "cell_type": "markdown",
   "metadata": {},
   "source": [
    "1. Consultando o namespace (ns)"
   ]
  },
  {
   "cell_type": "code",
   "execution_count": null,
   "metadata": {},
   "outputs": [],
   "source": [
    "kubectl get namespace"
   ]
  },
  {
   "cell_type": "markdown",
   "metadata": {},
   "source": [
    "2. Criando namespace (ns)\n",
    "\n",
    "    Escolha um nome e crie seu namespace"
   ]
  },
  {
   "cell_type": "code",
   "execution_count": null,
   "metadata": {},
   "outputs": [],
   "source": [
    "myNamespace=\"\"\n",
    "kubectl create ns $myNamespace"
   ]
  },
  {
   "cell_type": "markdown",
   "metadata": {},
   "source": [
    "3. Verificando os detalhes do namespace"
   ]
  },
  {
   "cell_type": "code",
   "execution_count": null,
   "metadata": {},
   "outputs": [],
   "source": [
    "kubectl describe ns $myNamespace"
   ]
  },
  {
   "cell_type": "markdown",
   "metadata": {},
   "source": [
    "## Subindo uma Aplicação\n",
    "\n",
    "Versionamos os recursos (namespace, deploy, service, ...) do cluster em arquivos YAML e para publicar estes recursos no Cluster k8s, utilizamos o comando:\n",
    "\n",
    "```\n",
    "kubectl apply -f ./my-resource.yaml \n",
    "```"
   ]
  },
  {
   "cell_type": "markdown",
   "metadata": {},
   "source": [
    "### Deployment\n",
    "\n",
    "    1. Criando deployment"
   ]
  },
  {
   "cell_type": "code",
   "execution_count": null,
   "metadata": {},
   "outputs": [],
   "source": [
    "cat <<EOF | kubectl -n $myNamespace apply -f -\n",
    "apiVersion: apps/v1\n",
    "kind: Deployment\n",
    "metadata:\n",
    "  name: helloworld\n",
    "spec:\n",
    "  replicas: 1\n",
    "  selector:\n",
    "    matchLabels:\n",
    "      app: helloworld\n",
    "  template:\n",
    "    metadata:\n",
    "      labels:\n",
    "        app: helloworld\n",
    "    spec:\n",
    "      containers:\n",
    "      - name: helloworld\n",
    "        image: docker.io/istio/examples-helloworld-v2\n",
    "        resources:\n",
    "          requests:\n",
    "            cpu: \"100m\"\n",
    "            memory: \"64Mi\"\n",
    "          limits:\n",
    "            memory: \"128Mi\"\n",
    "            cpu: \"250m\"            \n",
    "        imagePullPolicy: IfNotPresent #Always\n",
    "        ports:\n",
    "        - containerPort: 5000\n",
    "EOF        "
   ]
  },
  {
   "cell_type": "markdown",
   "metadata": {},
   "source": [
    "    O deployment também pode ser criado com o códgio abaixo\n",
    "\n",
    "```\n",
    "kubectl -n $myNamespace create deployment helloworld --image=docker.io/istio/examples-helloworld-v2\n",
    "```\n",
    "\n",
    "2. Consultando o deployment (deploy)"
   ]
  },
  {
   "cell_type": "code",
   "execution_count": null,
   "metadata": {},
   "outputs": [],
   "source": [
    "kubectl -n $myNamespace get deploy helloworld "
   ]
  },
  {
   "cell_type": "markdown",
   "metadata": {},
   "source": [
    "3. Consultando o POD"
   ]
  },
  {
   "cell_type": "code",
   "execution_count": null,
   "metadata": {},
   "outputs": [],
   "source": [
    "kubectl -n $myNamespace get pod #Para mais detalhes, trocar o comando get por describe"
   ]
  },
  {
   "cell_type": "markdown",
   "metadata": {},
   "source": [
    "4. Verificando o log do POD\n",
    "\n",
    "    Informe o nome do POD apresentado no comando anterior para executar os passos  4, 5 e 6."
   ]
  },
  {
   "cell_type": "code",
   "execution_count": null,
   "metadata": {},
   "outputs": [],
   "source": [
    "kubectl -n $myNamespace logs <nome-do-POD>"
   ]
  },
  {
   "cell_type": "markdown",
   "metadata": {},
   "source": [
    "5. Conectando no POD"
   ]
  },
  {
   "cell_type": "code",
   "execution_count": null,
   "metadata": {},
   "outputs": [],
   "source": [
    "kubectl -n $myNamespace exec -it <nome-do-POD> bash"
   ]
  },
  {
   "cell_type": "markdown",
   "metadata": {},
   "source": [
    "6. Deletando o POD"
   ]
  },
  {
   "cell_type": "code",
   "execution_count": null,
   "metadata": {},
   "outputs": [],
   "source": [
    "kubectl -n $myNamespace delete pod <nome-do-POD>"
   ]
  },
  {
   "cell_type": "markdown",
   "metadata": {},
   "source": [
    "    Podemos verificar que o POD será recriado.\n",
    "    O ReplicaSet garante que o aplicação mantanha o estado desejado configurado no deployment."
   ]
  },
  {
   "cell_type": "code",
   "execution_count": null,
   "metadata": {},
   "outputs": [],
   "source": [
    "kubectl -n $myNamespace get pod "
   ]
  },
  {
   "cell_type": "markdown",
   "metadata": {},
   "source": [
    "### Services\n",
    "\n",
    "1. Criando o serviço"
   ]
  },
  {
   "cell_type": "code",
   "execution_count": null,
   "metadata": {},
   "outputs": [],
   "source": [
    "cat <<EOF | kubectl -n $myNamespace apply -f -\n",
    "apiVersion: v1\n",
    "kind: Service\n",
    "metadata:\n",
    "  name: helloworld\n",
    "  labels:\n",
    "    app: helloworld\n",
    "spec:\n",
    "  ports:\n",
    "  - port: 8080       #Porta para acesso ao Serviço\n",
    "#   nodePort: 30800  #Porta para acesso aos nós do Cluster (range default: 30000-32767)\n",
    "    name: http\n",
    "    targetPort: 5000 #Porta para acesso ao POD   \n",
    "  selector:\n",
    "    app: helloworld\n",
    "  type: LoadBalancer    \n",
    "EOF    "
   ]
  },
  {
   "cell_type": "markdown",
   "metadata": {},
   "source": [
    "2. Consultando o Serviço (svc)"
   ]
  },
  {
   "cell_type": "code",
   "execution_count": null,
   "metadata": {},
   "outputs": [],
   "source": [
    "kubectl -n $myNamespace get svc "
   ]
  },
  {
   "cell_type": "markdown",
   "metadata": {},
   "source": [
    "    Para acessar o serviço, verifique o IP Externo liberado e acesse conforme abaixo  \n",
    "* [http://\\<ip_externo_loadbalance>:8080/hello](http://ip_externo_loadbalance:8080/hello)"
   ]
  },
  {
   "cell_type": "markdown",
   "metadata": {},
   "source": [
    "3. Excluindo os Recursos"
   ]
  },
  {
   "cell_type": "code",
   "execution_count": null,
   "metadata": {},
   "outputs": [],
   "source": [
    "kubectl -n $myNamespace delete svc helloworld\n",
    "kubectl -n $myNamespace delete deploy helloworld\n",
    "kubectl -n $myNamespace delete ns $myNamespace"
   ]
  },
  {
   "cell_type": "markdown",
   "metadata": {},
   "source": [
    "> Obs.: Deletando o namespace, todos os recursos gerenciados por ele também são excluídos"
   ]
  },
  {
   "cell_type": "markdown",
   "metadata": {},
   "source": [
    "[<img align=\"left\" src=\"media/voltar.png\" width=\"100\"/>](01_Preparacao.ipynb)[<img align=\"right\" src=\"media/avancar.png\" width=\"100\"/>](03_Helm.ipynb)\n"
   ]
  }
 ],
 "metadata": {
  "kernelspec": {
   "display_name": "Bash",
   "language": "bash",
   "name": "bash"
  },
  "language_info": {
   "codemirror_mode": "shell",
   "file_extension": ".sh",
   "mimetype": "text/x-sh",
   "name": "bash"
  }
 },
 "nbformat": 4,
 "nbformat_minor": 4
}
